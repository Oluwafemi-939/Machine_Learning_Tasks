{
 "cells": [
  {
   "cell_type": "markdown",
   "metadata": {},
   "source": [
    "# Home Assignment No. 2: Part 2 (Theory)"
   ]
  },
  {
   "cell_type": "markdown",
   "metadata": {},
   "source": [
    "In this part of the homework you are to solve several simple theoretical problems related to machine learning algorithms.\n",
    "* For every separate problem you can get only 0 points or maximal points for this problem. There are **NO INTERMEDIATE scores**.\n",
    "* Your solution must me **COMPLETE**, i.e. contain all required formulas/proofs/detailed explanations.\n",
    "* You must write your solution for any problem right after the words **YOUR SOLUTION**. Attaching pictures of your handwriting is allowed, but **highly discouraged**.\n",
    "## $\\LaTeX$ in Jupyter\n",
    "Jupyter has constantly improving $\\LaTeX$ support. Below are the basic methods to\n",
    "write **neat, tidy, and well typeset** equations in your notebooks:\n",
    "* to write an **inline** equation use \n",
    "```markdown\n",
    "$ you latex equation here $\n",
    "```\n",
    "* to write an equation, that is **displayed on a separate line** use \n",
    "```markdown\n",
    "$$ you latex equation here $$\n",
    "```\n",
    "* to write a **block of equations** use \n",
    "```markdown\n",
    "\\begin{align}\n",
    "    left-hand-side\n",
    "        &= right-hand-side on line 1\n",
    "        \\\\\n",
    "        &= right-hand-side on line 2\n",
    "        \\\\\n",
    "        &= right-hand-side on the last line\n",
    "\\end{align}\n",
    "```\n",
    "The **ampersand** (`&`) aligns the equations horizontally and the **double backslash**\n",
    "(`\\\\`) creates a new line."
   ]
  },
  {
   "cell_type": "markdown",
   "metadata": {},
   "source": [
    "# Task1. Bayesian methods (1 point)"
   ]
  },
  {
   "cell_type": "markdown",
   "metadata": {},
   "source": [
    "For a dataset $D =(X,y) =\\{(x_i,y_i)\\}^m_{i=1}$, $x_i \\in \\mathbb{R}^d$, $y_i\\in\\mathbb{R}$ it is known,that \n",
    "$$y_i = w^T x_i + \\epsilon$$\n",
    "where $\\epsilon \\sim N(0,\\sigma^2)$, $w  \\sim N(0,\\alpha I)$ . Suppose that $X^T X =I$, where $I$ is the identity matrix. Derive MAP estimation for $w$."
   ]
  },
  {
   "cell_type": "markdown",
   "metadata": {},
   "source": [
    "### Your solution"
   ]
  },
  {
   "cell_type": "markdown",
   "metadata": {},
   "source": [
    "    - The MAP of w can be derived as shown below;\n",
    "   \n",
    "    \n",
    "$$ w^{*} = {arg\\,min}_{w}\\left(  \\frac{1}{2\\sigma^{2}}  \\sum^{m}_{i=1} (f(x_{i},w)-y_{i})^2  +  \\frac{1}{2\\alpha} w^{T}W \\right)  $$  \n",
    "\n",
    "\n",
    "    - The solution to the above equation is given as;\n",
    "\n",
    "\n",
    "$$W = {arg\\,min}_{w}\\left( \\frac{1}{2\\sigma^{2}} (XW-Y)^2  +  \\frac{1}{2\\alpha}\\left\\lVert W \\right\\rVert\n",
    " ^{2}\\right)  $$\n",
    "\n",
    "\n",
    "    - We obtain the optimal solution of the equation above by finding the derivative w.r.t to w \n",
    "\n",
    "$$\\frac{\\partial}{\\partial w} = \\left( \\frac{1}{2\\sigma^{2}}\\times 2X^{T} (XW-Y) +  \\frac{1}{2\\alpha} \\times 2W \\right)  $$\n",
    "\n",
    "\n",
    "$$\\frac{\\partial}{\\partial w} = \\left( \\frac{1}{\\sigma^{2}}\\times  (X^{T}XW-X^{T}Y) +  \\frac{W}{\\alpha} \\right)  $$\n",
    "\n",
    "    - Given that XTX = I; Then the above expresssion becomes;\n",
    "    \n",
    "$$\\frac{\\partial}{\\partial w} = \\left( \\frac{1}{\\sigma^{2}}(W-X^{T}Y) +  \\frac{W}{\\alpha} \\right)  $$\n",
    "\n",
    "    - We obtain the optimal, equate the derivative to 0\n",
    "    \n",
    "$$\\frac{\\partial}{\\partial w} = \\left( \\frac{1}{\\sigma^{2}}(W-X^{T}Y) +  \\frac{W}{\\alpha} \\right) = 0  $$\n",
    "   \n",
    "$$\\left( \\frac{W}{\\sigma^{2}} + \\frac{W}{\\alpha} - \\frac{X^{T}Y}{\\sigma^{2}} \\right) = 0  $$\n",
    "\n",
    "$$  W \\left( \\frac{\\alpha + \\sigma^{2}}{\\sigma^{2} \\alpha} \\right) =\\frac{X^{T}Y}{\\sigma^{2}}  $$\n",
    "\n",
    "   \n",
    "    - Therefore the value of MAP for w is given as ;\n",
    "    \n",
    "    \n",
    "$$  w =   \\frac{\\alpha X^{T}Y}{\\alpha + \\sigma^{2}}  $$\n",
    "    "
   ]
  },
  {
   "cell_type": "code",
   "execution_count": null,
   "metadata": {},
   "outputs": [],
   "source": []
  },
  {
   "cell_type": "markdown",
   "metadata": {},
   "source": [
    "# Task 2. Gaussian Processes 1 (1 point)"
   ]
  },
  {
   "cell_type": "markdown",
   "metadata": {},
   "source": [
    "Let $\\sigma_n(\\mathbf{x}_*)$ be a predictive variance at point $\\mathbf{x}_*$ of a Gaussian Process $f_n$ with zero mean and covariance $k(\\cdot,\\cdot)$ that was built using first $n$ training points.\n",
    "Prove that for $\\forall \\mathbf{x}_*$ it holds\n",
    "$$\n",
    "    \\sigma_{n}(\\mathbf{x}_*) \\leq \\sigma_{n-1}(\\mathbf{x}_*).\n",
    "$$"
   ]
  },
  {
   "cell_type": "markdown",
   "metadata": {},
   "source": [
    "### Your solution"
   ]
  },
  {
   "cell_type": "markdown",
   "metadata": {},
   "source": [
    "    - The Predictive variance at point x, with n-training points in use can be expressesd using probability theory as; \n",
    "    \n",
    "    \n",
    "$$ \\sigma_{n}(\\mathbf{x}_*) =  k(\\mathbf{x}_*,\\mathbf{x}_*) - K^{*T}_{n} K^{-1}_{n}K^{*}_{n} $$  \n",
    "\n",
    "    -with Kn being the co-variance matrix; \n",
    "    - using the definition above, the original problem can be re-written as; \n",
    "    \n",
    "\n",
    "$$k(\\mathbf{x}_*,\\mathbf{x}_*) - K^{*T}_{n} K^{-1}_{n}K^{*}_{n} <\n",
    "    k(\\mathbf{x}_*,\\mathbf{x}_*) - K^{*T}_{n-1} K^{-1}_{n-1}K^{*}_{n-1}\n",
    "$$  \n",
    "\n",
    "    - The expression above can be simply as shown below; \n",
    "    \n",
    "$$k(\\mathbf{x}_*,\\mathbf{x}_*) -  k(\\mathbf{x}_*,\\mathbf{x}_*) - K^{*T}_{n} K^{-1}_{n}K^{*}_{n} < - K^{*T}_{n-1} K^{-1}_{n-1}K^{*}_{n-1}\n",
    "$$  \n",
    "\n",
    "$$- K^{*T}_{n} K^{-1}_{n}K^{*}_{n} < - K^{*T}_{n-1} K^{-1}_{n-1}K^{*}_{n-1}\n",
    "$$ \n",
    "    \n",
    "$$K^{*T}_{n} K^{-1}_{n}K^{*}_{n} > K^{*T}_{n-1} K^{-1}_{n-1}K^{*}_{n-1}\n",
    "$$     \n",
    "    \n",
    "  \n",
    "    - The covarince matrix can be written Kn  can be expressed as;\n",
    "    \n",
    "$$ K_{n} = \\begin{bmatrix}\n",
    "    K_{n-1} & K_{n-1} \\\\\n",
    "    K^{T}_{n-1} & K(x_{n},x_{n})\n",
    "  \\end{bmatrix} \n",
    "$$  \n",
    "\n",
    " - $K^{T}_{n}=(K(x_{1},x_{n}),K(x_{2},x_{n}),K(x_{3},x_{n}),\\dots,K(x_{n-1},x_{n}))   $\n",
    " \n",
    "        - This can be solved using block matrix in inversion formula     \n",
    "    \n",
    "$$ \\begin{bmatrix} P & Q \\\\ R & S\\\\ \\end{bmatrix} =\\begin{bmatrix} (P^{-1}+P^{-1}QMCP^{-1}) & (-P^{-1}QM) \\\\ (-MRP^{-1}) & M \\end{bmatrix} $$\n",
    "\n",
    "        - Applying the inversion formula to the covariance matrix previously defined, then we have,\n",
    "        \n",
    "\n",
    "$$K^{-1}_{n} =\\begin{bmatrix} (K^{-1}_{n-1}+ K^{-1}_{n-1}K_{n-1}MK^{T}_{n-1}K^{-1}_{n-1})  &  (-K^{-1}_{n-1}K_{n-1}M \\\\ -MK^{T}_{n-1}K^{-1}_{n-1} & M \\end{bmatrix}$$\n",
    "\n",
    "- M in this case equals; $\\left( K(x_{n},x_{n}) - K^{T}_{n-1}K^{-1}_{n-1}K_{n-1} \\right)^{-1}$ which is  a positive number\n",
    "\n",
    "\n",
    "\n",
    " - by making $K^{*T}_{n} = (K^{*}_{n-1},b^{*})^{T})$ , the evaluation of  of $K^{*T}_{n}K^{-1}_{n}K^{*}_{n}$  is given as\n",
    "\n",
    "$$K^{*T}_{n}K^{-1}_{n}K^{*}_{n}(K^{*}_{n-1} \\; b^{*})\\begin{bmatrix} (K^{-1}_{n-1}+ K^{-1}_{n-1}K_{n-1}MK^{T}_{n-1}K^{-1}_{n-1})  &  (-K^{-1}_{n-1}K_{n-1}M) \\\\ -MK^{T}_{n-1}K^{-1}_{n-1} & M \\end{bmatrix}  \\begin{bmatrix} K^{*}_{n-1} \\\\ b   \\end{bmatrix}$$\n",
    "\n",
    "        - Expansion of the expression above from the LHS gives  the result below;\n",
    "\n",
    "$$\\begin{bmatrix} (K^{*T}_{n-1}K^{-1}_{n-1}  +   K^{*T}_{n-1}K^{-1}_{n-1}K_{n-1}MK^{T}_{n-1}K^{-1}_{n-1} - bMK^{T}_{n-1}K^{-1}_{n-1})  &  (-K^{*T}_{n-1}K^{-1}_{n-1}K_{n-1}M  + bM) \\end{bmatrix} \\begin{bmatrix} K^{*}_{n-1} \\\\ b   \\end{bmatrix} $$\n",
    "\n",
    "\n",
    "        -  and then by performing 2 by 2 vec-vec multiplication on the above;\n",
    "$$K^{*T}_{n-1}K^{-1}_{n-1}K^{*}_{n-1}  +  K^{*T}_{n-1}K^{-1}_{n-1}K_{n-1}MK^{T}_{n-1}K^{-1}_{n-1}K^{*}_{n-1} - bMK^{T}_{n-1}K^{-1}_{n-1}K^{*}_{n-1}-\n",
    "bK^{*T}_{n-1}K^{-1}_{n-1}K_{n-1}M  + b^{2}M)$$   \n",
    "\n",
    "         The above expression can be simplify as ;\n",
    "         \n",
    "$$K^{*T}_{n-1}K^{-1}_{n-1}K^{*}_{n-1}  + M(r^{2}- 2abr + b^2)  $$          \n",
    "\n",
    "\n",
    "- $where \\;r = K^{*T}_{n-1}K^{-1}_{n-1}K_{n-1}$ \n",
    "\n",
    "            - using reverse qudratic expansion; Expression then becomes;\n",
    "            \n",
    "$$K^{*T}_{n-1}K^{-1}_{n-1}K^{*}_{n} = K^{*T}_{n-1}K^{-1}_{n-1}K^{*}_{n-1} + M(r-b)^{2}$$     \n",
    "\n",
    "            - The RHS of the equation above is ;\n",
    "$$K^{*T}_{n-1}K^{-1}_{n-1}K^{*}_{n-1} + M(r-b)^{2}   \\geq   K^{*T}_{n-1}K^{-1}_{n-1}K^{*}_{n-1} $$   \n",
    "\n",
    "            - Conclusively, this tells that the preeictive variance cannot increase when training with more data, therefore, we have;\n",
    "            \n",
    "$$\\sigma_{n}(x_{*}) < \\sigma_{n-1}(x_{*}) $$            \n",
    "            "
   ]
  },
  {
   "cell_type": "code",
   "execution_count": null,
   "metadata": {},
   "outputs": [],
   "source": []
  },
  {
   "cell_type": "code",
   "execution_count": null,
   "metadata": {},
   "outputs": [],
   "source": []
  },
  {
   "cell_type": "markdown",
   "metadata": {},
   "source": [
    "# Task 3. Gaussian Processes 2 (1 point)"
   ]
  },
  {
   "cell_type": "markdown",
   "metadata": {},
   "source": [
    "Consider you have gaussian distribution on $R$ with zero mean and differentiable by arguments covariation funtion $k(x, \\tilde{x})$.Get an expression for the correlation between the implementation of a Gaussian process  $y(x) ∼ GP (0, k(x, x ^{\\prime}))$ and its derivative $\\frac{\\partial y(\\tilde x)}{\\partial \\tilde x}$ ."
   ]
  },
  {
   "cell_type": "markdown",
   "metadata": {},
   "source": [
    "### Your solution"
   ]
  },
  {
   "cell_type": "markdown",
   "metadata": {},
   "source": [
    "    - This problem can be solve using the properties of linear operators; (since differenciation operator is linear operator)\n",
    "\n",
    "    - Let the expression for the covariance between y(xm) and its derivative be expressed as;   \n",
    "    \n",
    "$$COV\\left(y(x_{m}),\\frac{\\partial y(x)}{x}|x =x_{n}\\right)$$\n",
    "\n",
    "    - It should be noted that the derivative of a gaussian process is also a gaussian process\n",
    "    - by using the pro\n",
    "    \n",
    "    \n",
    "    \n",
    "$$ COV\\left(y(x_{m}),\\frac{\\partial y(x)}{x}|x =x_{n}\\right) = \\mathbb{E} \\left[y(x_{m}) \\left( \\frac{\\partial y(x)}{\\partial x}|x= x_{n}   \\right)  \\right]$$    \n",
    "\n",
    "\n",
    "    - The R.H.S expression then becomes;\n",
    "\n",
    "$$ \\mathbb{E} \\left[y(x_{m}) \\left( \\frac{\\partial y(x)}{\\partial x}|x = x_{n}\\right)\\right] = \\mathbb{E} \\left[ \\frac{\\partial y(x)y(x_{m})}{\\partial x}|x= x_{n} \\right]$$    \n",
    "\n",
    "    - and then we have this next permissible expression as;\n",
    "\n",
    "$$ \\mathbb{E} \\left[ \\frac{\\partial y(x)y(x_{m})}{\\partial x}|x= x_{n} \\right] =    \\frac{\\partial \\mathbb{E} \\left[ y(x)y(x_{m})\\right]}{\\partial x}|x= x_{n}  $$ \n",
    "\n",
    "\n",
    "$$\\frac{\\partial \\mathbb{E} \\left[ y(x)y(x_{m})\\right]}{\\partial x}|x= x_{n} =  \\frac{\\partial K(x_{m},x)}{\\partial x}|x = x_{n}$$ \n",
    "\n",
    "    - withThe expression above canbe used to express our covariance as; \n",
    "$ with\\; x = x_{m}\\; and \\; \\tilde x =x_{n} $    \n",
    "    \n",
    "$$ COV\\left(y(x),\\frac{\\partial y(\\tilde x)}{\\tilde x}\\right) = \\frac{\\partial K(x,\\tilde x)}{\\partial \\tilde x}$$   \n",
    "\n",
    "\n",
    "    - To obtain the variance for function observation\n",
    "    \n",
    "$$\\sigma^{2}y(x) = \\mathbb{E} [y(x)^{2}] = k(x,x)$$    \n",
    "    \n",
    "     - To obtain the variance for derivative observation\n",
    "    \n",
    "$$\\sigma^{2}y'( \\tilde x) = \\mathbb{E} \\left[   \\left( \\frac{\\partial y(\\tilde x)}{\\partial \\tilde x}   \\right)^{2}  \\right] = \\frac{\\partial^{2} k(\\tilde x,\\tilde x)}{\\partial^{2} \\tilde x}$$\n",
    "\n",
    "    - The expression for the correlation can be finally written as;\n",
    "    \n",
    "$$ COV\\left(y(x),\\frac{\\partial y(\\tilde x)}{\\tilde x}\\right) =  \\frac{1}{\\sqrt{\\frac{\\partial^{2} k(\\tilde x,\\tilde x)}{\\partial^{2} \\tilde x}k(x,x)} }    \\frac{\\partial^{2} k(\\tilde x,\\tilde x)}{\\partial^{2} \\tilde x}$$                   "
   ]
  },
  {
   "cell_type": "code",
   "execution_count": null,
   "metadata": {},
   "outputs": [],
   "source": []
  },
  {
   "cell_type": "code",
   "execution_count": null,
   "metadata": {},
   "outputs": [],
   "source": []
  },
  {
   "cell_type": "markdown",
   "metadata": {},
   "source": [
    "# Task 4. Kernel theory (1 point)"
   ]
  },
  {
   "cell_type": "markdown",
   "metadata": {},
   "source": [
    "Let $K(x, x'):\\mathcal{X}\\times \\mathcal{X}\\rightarrow \\mathbb{R}$ be a PDS kernel,\n",
    "and $\\phi\\colon \\mathcal{X} \\to \\mathcal{H}$ its <b>unknown </b> feature mapping. For $x,x'\\in\\mathcal{X}$ derive the formula for the **distance** between $\n",
    "\\phi(x)$ and $\\phi(x')$ in $\\mathcal{H}$.\n",
    " "
   ]
  },
  {
   "cell_type": "markdown",
   "metadata": {},
   "source": [
    "### Your solution"
   ]
  },
  {
   "cell_type": "markdown",
   "metadata": {},
   "source": [
    "    - Given a transformed feature space; its distance can be expressed as;\n",
    "\n",
    "$$\n",
    "\\| \\phi(x) - \\phi(x') \\|^2 = (\\phi(x) - \\phi(x'))^T(\\phi(x) - \\phi(x')) \n",
    "$$\n",
    "\n",
    "    - This can be futher expanded to give;\n",
    "    \n",
    "$$\n",
    "(\\phi(x) - \\phi(x'))^T(\\phi(x) - \\phi(x')) = \\phi^T(x) \\phi(x) - 2 \\phi^T(x) \\phi(x') + \\phi^T(x') \\phi(x') \n",
    "$$\n",
    "\n",
    "    - The above gives a final expression in terms of K is given as;  \n",
    "\n",
    "$$\n",
    "\\langle \\phi(x), \\phi(x) \\rangle - 2 \\langle \\phi(x), \\phi(x') \\rangle + \\langle \\phi(x'), \\phi(x') \\rangle = K(x, x) - 2 K(x, x') + K(x', x') \\dots (1)\n",
    "$$\n",
    "\n",
    "    - with K(x,x) being a positive definite kernel, then the Kernel-matrix is symmetric positive semi-definite\n",
    "        \n",
    "        \n",
    "$$\n",
    "K = \\begin{bmatrix} K(x,x) & K(x,x') \\\\ K(x',x) & K(x',x') \\end{bmatrix}\n",
    "$$\n",
    "\n",
    "    - This SPSD property implies that det(K) >= 0, by getting he expression for \n",
    "    \n",
    "$$\n",
    "|K| = K(x,x) K(x',x') - K^2(x, x') \\geq 0\n",
    "$$ \n",
    " \n",
    "    - solving the inequality above; ... \n",
    "$$ \n",
    "K(x,x) K(x',x') \\geq  K^2(x, x') \n",
    "$$ \n",
    "\n",
    "    - and further expression results to; \n",
    "$$\n",
    " \\sqrt{K(x,x) K(x',x')}\\geq K(x, x') \\dots eqn(2)\n",
    "$$ \n",
    "    \n",
    "    - by substituing eqn(2) above into eqn(1), we have the expression below; \n",
    "$$            \n",
    "K(x,x) - 2K(x, x') + K(x', x')  \\geq K(x,x) - 2 \\sqrt{K(x,x) K(x',x')} + K(x',x')      \n",
    "$$            \n",
    " \n",
    "    - and by evaluating this immediate result.... \n",
    " \n",
    "$$ \n",
    "  \\left(\\sqrt{K(x,x)} - \\sqrt{K(x',x')}\\right)^2 \\geq 0\n",
    "$$\n",
    " \n",
    "    - therefore this validate the expression above; and we get...\n",
    "\n",
    "$$\n",
    "\\| \\phi(x) - \\phi(x') \\|^2 = K(x, x) - 2 K(x, x') + K(x', x')\n",
    "$$ \n",
    " \n",
    " \n"
   ]
  },
  {
   "cell_type": "markdown",
   "metadata": {},
   "source": []
  },
  {
   "cell_type": "code",
   "execution_count": null,
   "metadata": {},
   "outputs": [],
   "source": []
  },
  {
   "cell_type": "markdown",
   "metadata": {},
   "source": [
    "# Task 5. Naive Gradient Boosting Regression (1 points)"
   ]
  },
  {
   "cell_type": "markdown",
   "metadata": {},
   "source": [
    "You are given a regression dataset, consisting of 5 samples with 1-dimensional feature vector $X$ and scalar target vector $y \\in \\mathbb{R}$:\n",
    "\n",
    "|  x   |  y   | \n",
    "|:----:|:----:| \n",
    "|  10  |  1   | \n",
    "|  32  |  9   | \n",
    "|  46  |  13  | \n",
    "|  54  |  16  | \n",
    "|  63  |  23  | \n",
    "\n",
    "In this task you are asked to implement **3 steps of Gradient Boosting Regression** with decision tree stumps as the learners $h_0, h_1, h_2$. \n",
    "\n",
    "In order to complete this task:\n",
    "1. Refer to the slides on naive boosting for regression in **Lecture 8**.\n",
    "2. Assume that the initial model $f_0$ is the mean of the target vector $y$\n",
    "3. According to the algorithm on the boosting approach for regression from **1.**, compute the residuals\n",
    "4. Manually, find a suitable split among the $x_i$ for each decision tree weak model $h_t(X)$, which minimizes the loss function:\n",
    "\n",
    "$$L_{\\text{split_i}} = \\frac{\\text{Var}_{left\\_split}*N_{1} + \\text{Var}_{right\\_split}*N_{2}}{N_{1}+N_{2}}$$\n",
    "\n",
    "where  $\\text{Var}$ is the variance of the values contained in each leaf, $N_1$ is the number of target values $y$ in the left leaf, $N_{2}$ - in the right leaf\n",
    "\n",
    "5. Perform the Gradient Boosting step on the ensemble model $f_t$ with the resulting decision tree stump predictions (assume that the learning rate $lr=1.0$).\n",
    "\n",
    "**Note on Decision Tree Stumps:** A decision tree stump is a decision tree, which consists only of the root and its immediate leaves. In case of this task, at each iteration you are asked to consider 5 different variants of the decision tree stumps $h_t^i$ - one variant for each of the split candidates $x_i$. You should choose the variant that minimizes the loss written above. The two leaves of the tree are formed according to the rule:\n",
    "\n",
    "```python\n",
    "if x_i < split:\n",
    "    target_value -> left leaf\n",
    "elif x_i >= split:\n",
    "    target_value -> right leaf\n",
    "```\n",
    "**HINT:** Think about what should be `target_value` equal to in case of Gradient Boosting Regression.\n",
    "\n",
    "The prediction of decision tree stump $h_t(x_i)$ is the mean of the values of the according leaf.\n",
    "\n"
   ]
  },
  {
   "cell_type": "markdown",
   "metadata": {},
   "source": [
    "**The task**:\n",
    "\n",
    "* Fill in the table - round the values of table up to the second digit after decimal point:\n",
    "\n",
    "\n",
    "|   x  |   y  |$f_0$|$$y - f_0$$|  $L$  |$h_0$ |$f_1$ |$$y-f_1$$|  $L$  |$h_1$|$f_2$  |$$y - f_2$$| $L$  |$h_2$|$F_3$ |\n",
    "|------|------|-----|-----------|-------|----- |----- |---------|-------|-----|-------|-----------|------|-----|------|\n",
    "|  10  |  1   |12.4 | -11.40    | 53.44 |-7.40 |  5.00| -4.00   | 16.93 |-1.42|  3.58 |  -2.58    | 8.91 |-2.58| 1.00 | \n",
    "|  32  |  9   |12.4 |  -3.40    | 20.95 |-7.40 |  5.00|  4.00   | 12.93 |-1.42|  3.58 |   5.42    | 7.24 | 0.65| 4.22 |\n",
    "|  46  |  13  |12.4 |   0.60    | 16.93 | 4.93 | 17.33| -4.33   | 16.93 |-1.42| 15.92 |  -2.92    | 7.57 | 0.65| 16.56|\n",
    "|  54  |  16  |12.4 |   3.60    | 19.83 | 4.93 | 17.33| -1.33   | 13.80 |-1.42| 15.92 |   0.08    | 8.90 | 0.65| 16.56|\n",
    "|  63  |  23  |12.4 |  10.60    | 25.35 | 4.93 | 17.33|  5.67   |  8.91 | 5.67| 23.00 |   0.00    | 8.91 | 0.65| 23.65|\n",
    "\n",
    "\n",
    "\n",
    "where $L$ is the loss, calculated by the formula for decision tree stumps above, for each of the 5 split variants of the decision tree stump at each iteration\n",
    "* Write down the splits (the feature values) you have found for each of the tree stumps\n",
    "\n",
    "* Insert the predictions of the full ensemble model and the split values, you have achieved after 3 iterations into the plotting cell below (**COPY AND PASTE** the last column from the table above and the splits list to the plotting cell below, instead of **#your solution**):"
   ]
  },
  {
   "cell_type": "code",
   "execution_count": 71,
   "metadata": {},
   "outputs": [],
   "source": [
    "from statistics import mean \n",
    "import numpy as np\n",
    "from itertools import groupby\n",
    "import matplotlib.pyplot as plt"
   ]
  },
  {
   "cell_type": "code",
   "execution_count": 72,
   "metadata": {},
   "outputs": [],
   "source": [
    "X = [10.,32.,46.,54.,63.]\n",
    "y = [1.,9.,13.,16.,23.]\n",
    "\n",
    "df = np.array([X,y]).T"
   ]
  },
  {
   "cell_type": "code",
   "execution_count": null,
   "metadata": {},
   "outputs": [],
   "source": []
  },
  {
   "cell_type": "code",
   "execution_count": 73,
   "metadata": {},
   "outputs": [],
   "source": [
    "#evaluating the stump loss...\n",
    "#R = residuals, \n",
    "#i_splits = index\n",
    "def L_stump(i,Rs):\n",
    "    n = Rs.shape[0]\n",
    "    r1 = Rs[:i]- Rs[:i].mean()\n",
    "    r2 = Rs[i:]- Rs[i:].mean()\n",
    "    loss = (((r1)**2).sum()+((r2)**2).sum())/n\n",
    "    return loss    "
   ]
  },
  {
   "cell_type": "code",
   "execution_count": 74,
   "metadata": {},
   "outputs": [],
   "source": [
    "#evaluating the stump values...\n",
    "def v_stump(i,Rs):\n",
    "    n =  Rs.shape[0] \n",
    "    r_ = np.zeros(n)\n",
    "    r_[:i] = Rs[:i].mean()\n",
    "    r_[i:] = Rs[i:].mean()\n",
    "    return r_"
   ]
  },
  {
   "cell_type": "code",
   "execution_count": 75,
   "metadata": {},
   "outputs": [],
   "source": [
    "#samples == the bosstrapped samples\n",
    "#split_i == split indexes\n",
    "Rs = np.zeros([df.shape[0], 4])\n",
    "Rs[:,0] = df[:,1] - df[:,1].mean()\n",
    "split_i = np.zeros(Rs.shape[1], dtype=int)\n",
    "samples = np.zeros(Rs.shape, dtype=float)\n",
    "samples[:,0] = df[:,1].mean()\n",
    "res_stump = np.zeros(Rs.shape, dtype=float)\n",
    "res_stump[:,0] = df[:,1].mean()"
   ]
  },
  {
   "cell_type": "code",
   "execution_count": null,
   "metadata": {},
   "outputs": [],
   "source": []
  },
  {
   "cell_type": "code",
   "execution_count": 76,
   "metadata": {},
   "outputs": [
    {
     "name": "stderr",
     "output_type": "stream",
     "text": [
      "C:\\Users\\Moninuola\\Documents\\New folder\\lib\\site-packages\\ipykernel_launcher.py:6: RuntimeWarning: Mean of empty slice.\n",
      "  \n"
     ]
    },
    {
     "name": "stdout",
     "output_type": "stream",
     "text": [
      "[53.44  0.    0.    0.    0.  ]\n",
      "0.0\n",
      "[53.44 20.95  0.    0.    0.  ]\n",
      "0.0\n",
      "[53.44       20.95       16.93333333  0.          0.        ]\n",
      "0.0\n",
      "[53.44       20.95       16.93333333 19.83333333  0.        ]\n",
      "0.0\n",
      "[53.44       20.95       16.93333333 19.83333333 25.35      ]\n",
      "16.933333333333334\n",
      "[16.93333333  0.          0.          0.          0.        ]\n",
      "0.0\n",
      "[16.93333333 12.93333333  0.          0.          0.        ]\n",
      "0.0\n",
      "[16.93333333 12.93333333 16.93333333  0.          0.        ]\n",
      "0.0\n",
      "[16.93333333 12.93333333 16.93333333 13.8037037   0.        ]\n",
      "0.0\n",
      "[16.93333333 12.93333333 16.93333333 13.8037037   8.90555556]\n",
      "8.905555555555555\n",
      "[8.90555556 0.         0.         0.         0.        ]\n",
      "0.0\n",
      "[8.90555556 7.23715278 0.         0.         0.        ]\n",
      "0.0\n",
      "[8.90555556 7.23715278 7.56759259 0.         0.        ]\n",
      "0.0\n",
      "[8.90555556 7.23715278 7.56759259 8.90439815 0.        ]\n",
      "0.0\n",
      "[8.90555556 7.23715278 7.56759259 8.90439815 8.90555556]\n",
      "7.237152777777777\n"
     ]
    }
   ],
   "source": [
    "for j in range(1,Rs.shape[1]):\n",
    "    split_values = np.zeros(Rs.shape[0])\n",
    "    for i in range(df.shape[0]):\n",
    "        split_values[i] = L_stump(i,Rs[:,j-1])\n",
    "        print(split_values)\n",
    "        split_i[j] = np.argmin(split_values)\n",
    "        print(split_values[split_i[j]])\n",
    "        res_stump[:,j] = v_stump(split_i[j],Rs[:,j-1])\n",
    "        samples[:,j] = (samples[:,j-1]+ res_stump[:,j])\n",
    "        Rs[:,j] = (Rs[:,j-1] - res_stump[:,j])"
   ]
  },
  {
   "cell_type": "code",
   "execution_count": 77,
   "metadata": {
    "scrolled": true
   },
   "outputs": [
    {
     "data": {
      "text/plain": [
       "array([[12.4       ,  5.        ,  3.58333333,  1.        ],\n",
       "       [12.4       ,  5.        ,  3.58333333,  4.22916667],\n",
       "       [12.4       , 17.33333333, 15.91666667, 16.5625    ],\n",
       "       [12.4       , 17.33333333, 15.91666667, 16.5625    ],\n",
       "       [12.4       , 17.33333333, 23.        , 23.64583333]])"
      ]
     },
     "execution_count": 77,
     "metadata": {},
     "output_type": "execute_result"
    }
   ],
   "source": [
    "samples"
   ]
  },
  {
   "cell_type": "code",
   "execution_count": 78,
   "metadata": {},
   "outputs": [
    {
     "data": {
      "text/plain": [
       "array([[-11.4       ,  -4.        ,  -2.58333333,   0.        ],\n",
       "       [ -3.4       ,   4.        ,   5.41666667,   4.77083333],\n",
       "       [  0.6       ,  -4.33333333,  -2.91666667,  -3.5625    ],\n",
       "       [  3.6       ,  -1.33333333,   0.08333333,  -0.5625    ],\n",
       "       [ 10.6       ,   5.66666667,   0.        ,  -0.64583333]])"
      ]
     },
     "execution_count": 78,
     "metadata": {},
     "output_type": "execute_result"
    }
   ],
   "source": [
    "#getting the residuals\n",
    "Rs"
   ]
  },
  {
   "cell_type": "code",
   "execution_count": 79,
   "metadata": {},
   "outputs": [
    {
     "data": {
      "text/plain": [
       "array([[12.4       , -7.4       , -1.41666667, -2.58333333],\n",
       "       [12.4       , -7.4       , -1.41666667,  0.64583333],\n",
       "       [12.4       ,  4.93333333, -1.41666667,  0.64583333],\n",
       "       [12.4       ,  4.93333333, -1.41666667,  0.64583333],\n",
       "       [12.4       ,  4.93333333,  5.66666667,  0.64583333]])"
      ]
     },
     "execution_count": 79,
     "metadata": {},
     "output_type": "execute_result"
    }
   ],
   "source": [
    "res_stump"
   ]
  },
  {
   "cell_type": "code",
   "execution_count": 80,
   "metadata": {},
   "outputs": [
    {
     "name": "stdout",
     "output_type": "stream",
     "text": [
      "f(0) :  [12.4 12.4 12.4 12.4 12.4]\n"
     ]
    }
   ],
   "source": [
    "#Getting f(0) from boostrap samples\n",
    "print(\"f(0) : \",samples[:,0])"
   ]
  },
  {
   "cell_type": "code",
   "execution_count": 81,
   "metadata": {},
   "outputs": [
    {
     "name": "stdout",
     "output_type": "stream",
     "text": [
      "Loss values(L):  [-11.4  -3.4   0.6   3.6  10.6]\n"
     ]
    }
   ],
   "source": [
    "#Loss_values:\n",
    "print(\"Loss values(L): \",Rs[:,0])"
   ]
  },
  {
   "cell_type": "code",
   "execution_count": 82,
   "metadata": {},
   "outputs": [
    {
     "name": "stdout",
     "output_type": "stream",
     "text": [
      "h(0) values:  [-7.4        -7.4         4.93333333  4.93333333  4.93333333]\n"
     ]
    }
   ],
   "source": [
    "#Loss_values:\n",
    "print(\"h(0) values: \",res_stump[:,1])"
   ]
  },
  {
   "cell_type": "code",
   "execution_count": 83,
   "metadata": {},
   "outputs": [
    {
     "name": "stdout",
     "output_type": "stream",
     "text": [
      "f(1) values:  [ 5.          5.         17.33333333 17.33333333 17.33333333]\n"
     ]
    }
   ],
   "source": [
    "print(\"f(1) values: \",samples[:,1])   "
   ]
  },
  {
   "cell_type": "code",
   "execution_count": 84,
   "metadata": {},
   "outputs": [
    {
     "name": "stdout",
     "output_type": "stream",
     "text": [
      "y- f(1) values:  [-4.          4.         -4.33333333 -1.33333333  5.66666667]\n"
     ]
    }
   ],
   "source": [
    "#y-f(1)....\n",
    "print(\"y- f(1) values: \",Rs[:,1])   "
   ]
  },
  {
   "cell_type": "code",
   "execution_count": 85,
   "metadata": {},
   "outputs": [
    {
     "name": "stdout",
     "output_type": "stream",
     "text": [
      "h(1) values:  [-1.41666667 -1.41666667 -1.41666667 -1.41666667  5.66666667]\n"
     ]
    }
   ],
   "source": [
    "#Loss_values:\n",
    "print(\"h(1) values: \",res_stump[:,2])"
   ]
  },
  {
   "cell_type": "code",
   "execution_count": 86,
   "metadata": {},
   "outputs": [
    {
     "name": "stdout",
     "output_type": "stream",
     "text": [
      "f(2) values:  [ 3.58333333  3.58333333 15.91666667 15.91666667 23.        ]\n"
     ]
    }
   ],
   "source": [
    "print(\"f(2) values: \",samples[:,2])   "
   ]
  },
  {
   "cell_type": "code",
   "execution_count": 87,
   "metadata": {},
   "outputs": [
    {
     "name": "stdout",
     "output_type": "stream",
     "text": [
      "y-f(2) [-2.58333333  5.41666667 -2.91666667  0.08333333  0.        ]\n"
     ]
    }
   ],
   "source": [
    "print(\"y-f(2)\",Rs[:,2])"
   ]
  },
  {
   "cell_type": "code",
   "execution_count": 88,
   "metadata": {},
   "outputs": [
    {
     "name": "stdout",
     "output_type": "stream",
     "text": [
      "h(2) values:  [-2.58333333  0.64583333  0.64583333  0.64583333  0.64583333]\n"
     ]
    }
   ],
   "source": [
    "print(\"h(2) values: \",res_stump[:,3])"
   ]
  },
  {
   "cell_type": "code",
   "execution_count": 89,
   "metadata": {},
   "outputs": [
    {
     "name": "stdout",
     "output_type": "stream",
     "text": [
      "F(3) values:  [ 1.          4.22916667 16.5625     16.5625     23.64583333]\n"
     ]
    }
   ],
   "source": [
    "print(\"F(3) values: \",samples[:,3])   "
   ]
  },
  {
   "cell_type": "code",
   "execution_count": null,
   "metadata": {},
   "outputs": [],
   "source": []
  },
  {
   "cell_type": "code",
   "execution_count": 90,
   "metadata": {
    "scrolled": true
   },
   "outputs": [
    {
     "data": {
      "image/png": "[encoded data removed]",
      "text/plain": [
       "<Figure size 720x576 with 1 Axes>"
      ]
     },
     "metadata": {
      "needs_background": "light"
     },
     "output_type": "display_data"
    }
   ],
   "source": [
    "plt.figure(figsize=(10,8))\n",
    "plt.plot(df[:,0],df[:,1])\n",
    "plt.grid()"
   ]
  },
  {
   "cell_type": "code",
   "execution_count": null,
   "metadata": {},
   "outputs": [],
   "source": []
  },
  {
   "cell_type": "code",
   "execution_count": null,
   "metadata": {},
   "outputs": [],
   "source": []
  },
  {
   "cell_type": "code",
   "execution_count": 91,
   "metadata": {},
   "outputs": [],
   "source": [
    "def plot_tree(x,F,stumps):\n",
    "    x_range = np.arange(np.min(x), np.max(x)+1)\n",
    "    x_r = []\n",
    "    f_r = []\n",
    "    stmps = [0] + stumps + [np.inf]\n",
    "    for st in range(1,len(stmps)):\n",
    "        x_r.extend([list(group) for k, group in groupby(x_range, lambda x: x<stmps[st] and x>=stmps[st-1]) if k])\n",
    "        f_r.append([f_i for f_i,x_ii in zip(F,x) if x_ii<stmps[st] and x_ii>=stmps[st-1]])\n",
    "    F_to_plot = []\n",
    "    for ft in range(len(f_r)):\n",
    "        #assert len(f_r) == len(x_r)\n",
    "        if len(f_r[ft]) == 1:\n",
    "            F_to_plot.extend([f_r[ft][0]]*len(x_r[ft]))\n",
    "        elif len(f_r[ft]) > 1:\n",
    "            F_to_plot.extend([mean(f_r[ft])]*len(x_r[ft]))\n",
    "    return F_to_plot"
   ]
  },
  {
   "cell_type": "markdown",
   "metadata": {},
   "source": [
    "## PLOTTING CELL##"
   ]
  },
  {
   "cell_type": "code",
   "execution_count": 92,
   "metadata": {},
   "outputs": [
    {
     "data": {
      "text/plain": [
       "array([46., 63., 32.])"
      ]
     },
     "execution_count": 92,
     "metadata": {},
     "output_type": "execute_result"
    }
   ],
   "source": [
    "#getting the split_values\n",
    "df[split_i[1:],0]"
   ]
  },
  {
   "cell_type": "code",
   "execution_count": 93,
   "metadata": {},
   "outputs": [
    {
     "name": "stdout",
     "output_type": "stream",
     "text": [
      "F(3) values:  [ 1.          4.22916667 16.5625     16.5625     23.64583333]\n"
     ]
    }
   ],
   "source": [
    "print(\"F(3) values: \",samples[:,3])   "
   ]
  },
  {
   "cell_type": "code",
   "execution_count": 94,
   "metadata": {},
   "outputs": [
    {
     "data": {
      "image/png": "[encoded data removed]",
      "text/plain": [
       "<Figure size 720x432 with 1 Axes>"
      ]
     },
     "metadata": {
      "needs_background": "light"
     },
     "output_type": "display_data"
    }
   ],
   "source": [
    "x = [10,32,46,54,63]\n",
    "y = [1, 9, 13, 16, 23]\n",
    "min_ = np.min(x)\n",
    "max_ = np.max(x)\n",
    "\n",
    "#note that the order of F(x_i) should be corresponding to the order of x_i in the table\n",
    "\n",
    "############ INSERT YOUR SOLUTION HERE###############\n",
    "####your solution#####\n",
    "F3 =  [1., 4.22916667, 16.5625 ,16.5625 , 23.64583333] \n",
    "####your solution####\n",
    "splits = [46., 63., 32.]\n",
    "x_range = np.arange(min_,max_+1)\n",
    "boosted_F_plot = plot_tree(x, F3, stumps = list(np.sort(splits)))\n",
    "fig, ax = plt.subplots(1,1, figsize=(10,6))\n",
    "ax.scatter(x,y, label = 'original')\n",
    "ax.scatter(x, F3, label = 'predicted')\n",
    "ax.plot(x_range,boosted_F_plot,'--', linewidth=2, label = 'composite function')\n",
    "plt.show()"
   ]
  },
  {
   "cell_type": "markdown",
   "metadata": {},
   "source": [
    "# Task 6. AdaBoost (1 point)"
   ]
  },
  {
   "cell_type": "markdown",
   "metadata": {},
   "source": [
    "For each of the following cases,explain how AdaBoost, as given in **Lecture 7**, will treat a weak hypothesis $h_t$ with weighted error $N_t(h_t , w_t )$. Also, in each case, explain why this behavior takes place.\n",
    "1. $N_t = \\frac{1}{2}$\n",
    "2. $N_t > \\frac{1}{2}$\n",
    "3. $N_t = 0$"
   ]
  },
  {
   "cell_type": "markdown",
   "metadata": {},
   "source": [
    "### Your solution"
   ]
  },
  {
   "cell_type": "markdown",
   "metadata": {},
   "source": [
    "    - As discussed in lectures; the Final ensemble of classifers is given as;\n",
    "    \n",
    "$$f_{T}(x) = sign \\left[\\sum^{T}_{i=1} \\alpha_{t}h_{t}(x)     \\right] $$     \n",
    "\n",
    "\n",
    "    - where alpha= the weight of classifiers and its given as;\n",
    "$$\\alpha_{t} = \\frac{1}{2}\\log \\frac{1-N_{t}}{N_{t}}$$ \n",
    "\n",
    "\n",
    " -   $1^{st}$ :  with $N_{t} = \\frac{1}{2}$  \n",
    " \n",
    "$$\\alpha_{t} = \\frac{1}{2}\\log \\frac{1- \\frac{1}{2}}{\\frac{1}{2}} = \\frac{1}{2}\\log 1 = 0$$\n",
    "\n",
    "- with$\\alpha_{t} = 0$ (resulting from $N_{t} = \\frac{1}{2}$),\n",
    "\n",
    "        - This occurs mainly because the classifier has great rate of data misclassification.\n",
    "        - The AdaBoost does not take into account the contribution of that corresponding classifier in the final emsemble of classifiers"
   ]
  },
  {
   "cell_type": "markdown",
   "metadata": {},
   "source": []
  },
  {
   "cell_type": "markdown",
   "metadata": {},
   "source": [
    "- $2^{nd}$: with $N_{t} \\geq \\frac{1}{2}$, \n",
    "- by adding a constraint $k < \\frac{1}{2}$ as offset; then $N_{t} = \\frac{1}{2} + k$  \n",
    " \n",
    "$$\\alpha_{t} = \\frac{1}{2}\\log \\frac{1- \\frac{1}{2}- k}{\\frac{1}{2} + k} = \\frac{1}{2}\\log\\left( 1 - \\frac{2k}{ \\frac{1}{2}+k} \\right) \\leq 0$$\n",
    "\n",
    "- with $\\alpha_{t} =\\leq 0$ , the classifier is sure to give correct predictions with $\\tilde N_{t}= \\frac{1}{2}-k$ \n",
    "\n",
    "\n",
    "        - For this case, the classifier with this result will be substracted instead of being added \n",
    "        - it simply means taking into account the opposite contribution of the classifier."
   ]
  },
  {
   "cell_type": "markdown",
   "metadata": {},
   "source": []
  },
  {
   "cell_type": "markdown",
   "metadata": {},
   "source": [
    "- $3^{rd}$: with $N_{t} = 0$, we solve the alpha eqn using the limit approach\n",
    "\n",
    " \n",
    "$$\\alpha_{t} = \\frac{1}{2}\\lim_{N_{t}\\rightarrow +0} \\log \\frac{1- N_{t}}{N_{t}} \n",
    "\\rightarrow +\\infty$$\n",
    "\n",
    "\n",
    "\n",
    "- $N_{t} = 0$ implies zero-weighted classifier error, (no mistake in the classification process) \n",
    "     \n",
    "        - The AdaBoost gives the highest possible weight to this classifier in the emsembling process\n",
    "         - This only occurs when we have a perfect classifier which is practically impossible unless there is an occurrence of  overfitting"
   ]
  },
  {
   "cell_type": "code",
   "execution_count": null,
   "metadata": {},
   "outputs": [],
   "source": []
  },
  {
   "cell_type": "code",
   "execution_count": null,
   "metadata": {},
   "outputs": [],
   "source": []
  }
 ],
 "metadata": {
  "kernelspec": {
   "display_name": "Python 3",
   "language": "python",
   "name": "python3"
  },
  "language_info": {
   "codemirror_mode": {
    "name": "ipython",
    "version": 3
   },
   "file_extension": ".py",
   "mimetype": "text/x-python",
   "name": "python",
   "nbconvert_exporter": "python",
   "pygments_lexer": "ipython3",
   "version": "3.7.4"
  }
 },
 "nbformat": 4,
 "nbformat_minor": 2
}
