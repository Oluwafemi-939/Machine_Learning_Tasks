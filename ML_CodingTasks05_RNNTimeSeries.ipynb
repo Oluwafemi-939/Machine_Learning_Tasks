{
 "cells": [
  {
   "cell_type": "markdown",
   "metadata": {
    "colab_type": "text",
    "id": "Ye_cuFLrN7J3"
   },
   "source": [
    "# Home Assignment No. 4: Part 1 (Practice)\n",
    "To solve this task, you will write some code to try random **recurrent neural networks** in action. This part of the assignment is a simple practice with pytorch.\n",
    "* You are **HIGHLY RECOMMENDED** to read relevant documentation, e.g. for [python](https://docs.python.org/3/), [numpy](https://docs.scipy.org/doc/numpy/reference/), [matlpotlib](https://matplotlib.org/) and [pytorch](http://pytorch.org). Also remember that seminars, lecture slides, [Google](http://google.com) and [StackOverflow](https://stackoverflow.com/) are your close friends during this course (and, probably, whole life?).\n",
    "\n",
    "* In some problems you are asked to provide short discussion of the results. In these cases you have to create **MARKDOWN** cell with your comments right after the corresponding code cell.\n",
    "\n",
    "* For every separate (sub)problem you can get only 0 points or maximal points for this problem. There are **NO INTERMEDIATE scores**. So make sure that you did everything required in the task\n",
    "\n",
    "* Your **SOLUTION** notebook **MUST BE REPRODUCIBLE**, i.e. if the reviewer decides to execute all, after all the computation he will obtain exactly the same solution (with all the corresponding plots) as in your uploaded notebook.\n",
    "\n",
    "* Your code must be clear to the reviewer. For this purpose, try to include neccessary comments inside the code. But remember: **GOOD CODE MUST BE SELF-EXPLANATORY** without any additional comments.\n",
    "\n",
    "## Recurrent Neural Networks\n",
    "\n",
    "During the seminar, we worked on building an intution for RNNs. We saw that they are very powerful techniques and compared to ARMA methods, where some assumptions must hold to apply the model, RNNs can be applied on sequential data as blackboxes and lead to good results.\n",
    "\n",
    "Recurrent Neural Networks (RNN) can read inputs $x^{\\langle t \\rangle}$ one by one. Through the hidden layer activations, they can \"remember\" some information. The RNN can pass it to the next step, in the case of the unidirectional RNN, or to previous and future steps in the bidirectional RNN.\n",
    "\n",
    "Before continuing, we should define some notation:\n",
    "* $[l]$ represents an object associated with the $l^{th}$ layer. \n",
    "* Whereas $(i)$ denotes an object associated with the $i^{th}$ example. \n",
    "\n",
    "- Superscript $\\langle t \\rangle$ denotes an object at the $t^{th}$ time-step. \n",
    "    \n",
    "- **Sub**script $i$ denotes the $i^{th}$ entry of a vector.\n",
    "\n",
    "Example:  \n",
    "- $a^{(2)[3]<4>}_5$ denotes the activation of the 2nd training example (2), 3rd layer [3], 4th time step <4>, and 5th entry in the vector.\n",
    "\n",
    "We first define some functions that will be helpful for us in the next steps:"
   ]
  },
  {
   "cell_type": "code",
   "execution_count": 0,
   "metadata": {
    "colab": {},
    "colab_type": "code",
    "id": "Bym2fl5cN7KL"
   },
   "outputs": [],
   "source": [
    "import torch\n",
    "import numpy as np\n",
    "import matplotlib.pyplot as plt\n",
    "%matplotlib inline"
   ]
  },
  {
   "cell_type": "code",
   "execution_count": 0,
   "metadata": {
    "colab": {},
    "colab_type": "code",
    "id": "E4s_g4EzN7Kz"
   },
   "outputs": [],
   "source": [
    "def softmax(x):\n",
    "    e_x = torch.exp(x - torch.max(x))\n",
    "    return e_x / e_x.sum(axis=0)"
   ]
  },
  {
   "cell_type": "markdown",
   "metadata": {
    "colab_type": "text",
    "id": "E2tVjI9ON7K_"
   },
   "source": [
    "The RNN can be intuitively understood as following"
   ]
  },
  {
   "cell_type": "markdown",
   "metadata": {
    "colab_type": "text",
    "id": "-vC7sATSN7LN"
   },
   "source": [
    "# **<img src=\"RNN_1.gif\" style=\"width:500;height:300px;\">**\n",
    "<caption><center>Figure 1: The Recurrent Neural Network</center></caption>"
   ]
  },
  {
   "cell_type": "markdown",
   "metadata": {
    "colab_type": "text",
    "id": "SH1F48PxN7LT"
   },
   "source": [
    "Let's discuss this implementation more in detail.\n",
    "## Inputs and outputs of a RNN\n",
    "We start with the two input vectors of the RNN, the input vector and the hidden state.\n",
    "### Input $x$\n",
    "The number of units is represented as $n_x$. It can be understood as the number of units in a single timestep of a single training example.\n",
    "\n",
    "A timestep in a single input example is represented as $x^{(i) \\langle t \\rangle }$. The timesteps are indexed as $t$. Normally, a single training example $x^{(i)}$ will consist of multiple time steps $T_x$.\n",
    "\n",
    "The training examples are grouped into so-called mini batches $x$ of size $m$. Thus, the shape of a mini batch is $(n_x,m,T_x)$. $x$ is thus a 3-dimension tensor and this will be our input into the RNN.\n",
    "\n",
    "As we will be working with mini-batches of training examples, we will need a 2D slide $x^{\\langle t \\rangle}$ of the same shape of our mini batch, $(n_x, m)$. In our implementation, this will be the variable `xt`.\n",
    "### Hidden State $a$\n",
    "The second input required in a RNN is the hidden state $a^{\\langle t \\rangle}$, an activation function. The hidden state is passed from one step to the next. It shares similarities with our input vector $x$. \n",
    "\n",
    "For example, it has a length $n_{a}$, and if we include a mini-batch of size $m$, the shape of the mini-batch will be $(n_{a},m)$. The hidden state also makes use of the same index $t$ to iterate and on each loop it uses a 2D slice $a^{\\langle t \\rangle}$ of shape $(n_{a}, m)$.\n",
    "\n",
    "In our implementation, we will have two variables for the hidden state. They will be called `a_prev` and `a_next`.\n",
    "Similarly, on each step, we produce an output vector.\n",
    "### Output $\\hat{y}$\n",
    "The ouput $\\hat{y}$ is also a 3D tensor. Its shape is $(n_{y}, m, T_{y})$, where $n_{y}$ represents the number of units in the vector representing the prediction. As it is the case with the input, $m$ reflects the number of examples in the mini batch and $T_{y}$ the number of steps in the prediction. In our implementation, we will be defining this variable as `y_pred`.\n",
    "\n",
    "If we go more in depth and look at a single time step $t$, we have a 2D slice $\\hat{y}^{\\langle t \\rangle}$ with shape $(n_{y}, m)$. Similarly, the variable in our code for this 2D slice will be called `yt_pred`.\n",
    "## The RNN cell\n",
    "In the animation above, we see that the RNN model consists basically of looping over a single cell over the index $t$. As we outlined above, we take the input consisting of two vectors, the current input $x^{\\langle t \\rangle}$, and the previous hidden state $a^{\\langle t - 1\\rangle}$. \n",
    "At the same time, we will be passing to the next RNN cell two outputs. They are the hidden state  $a^{\\langle t \\rangle}$ and the prediction $\\hat{y}^{\\langle t \\rangle}$.\n",
    "Let's start by implementing the RNN cell!\n",
    "## Task 1. Simple Cell (4 points)\n",
    "In this task, you will have 4 individual exercises:\n",
    "* **(1 pt.)** First, start by implementing the hidden state $a$ with the tanh activation function. It is defined as \n",
    "$$\n",
    "\\begin{align}\n",
    "a^{\\langle t \\rangle} = \\tanh(W_{aa} a^{\\langle t-1 \\rangle} + W_{ax} x^{\\langle t \\rangle} + b_a).\n",
    "\\end{align}\n",
    "$$\n",
    "* **(1 pt.)** Second, use the obtained result in the first task to compute the prediction \n",
    "$$\n",
    "\\begin{align}\n",
    "\\hat{y}^{\\langle t \\rangle} = softmax(W_{ya} a^{\\langle t \\rangle} + b_y).\n",
    "\\end{align}\n",
    "$$\n",
    "* **(1 pt.)** Third, proceceed to store the tuple $(a^{\\langle t \\rangle}, a^{\\langle t-1 \\rangle}, x^{\\langle t \\rangle}, parameters)$ in a `accumulator` variable.\n",
    "* **(1 pt.)** Fourth return `accumulator` and $a^{\\langle t \\rangle}$ , $\\hat{y}^{\\langle t \\rangle}$.\n",
    "The function to implement consists of the following arguments:\n",
    "* `xt` - This is the input data at timestep $t$, a pytorch tensor of shape $(n_x, m)$\n",
    "* `a_prev` - Hidden state at timestep \"t-1\", a pytorch tensor of shape $(n_a, m)$\n",
    "* `parameters` - This is a python dictionary. It consists of five keys:\n",
    "* - Wax - The weight matrix multiplying the input $x$ with shape $(n_a, n_x)$\n",
    "* - Waa - The meight matrix multiplying the hidden state $a$ with shape $(n_a, n_a)$\n",
    "* - Wya - The weight matrix for the hidden-state to the output with shape $(n_y, n_a)$\n",
    "* - ba -  Represents the bias with shape $(n_a, 1)$\n",
    "* - by -  Similarly, this is the bias for the hidden-state to the output. It has a shape $(n_y, 1)$\n",
    "    \n",
    "The function must return the following variables:\n",
    "* `a_next` - This is the next hidden state with shape $(n_a, m)$\n",
    "* `yt_pred` - It is the prediction at timestep $t$ with shape $(n_y, m)$\n",
    "* `accumulator` - A tuple of values required for the backward pass. The tuple must contain (`a_next`, `a_prev`, `xt`, `parameters`)"
   ]
  },
  {
   "cell_type": "code",
   "execution_count": 0,
   "metadata": {
    "colab": {},
    "colab_type": "code",
    "id": "l4TpYkgFN7La"
   },
   "outputs": [],
   "source": [
    "def rnn_cell_forward(xt, a_prev, parameters):    \n",
    "\n",
    "    Wax = parameters[\"Wax\"]\n",
    "    Waa = parameters[\"Waa\"]\n",
    "    Wya = parameters[\"Wya\"]\n",
    "    ba = parameters[\"ba\"]\n",
    "    by = parameters[\"by\"]\n",
    "    \n",
    "    ### WRITE SOLUTION HERE ###\n",
    "\n",
    "    #1....hidden_state: a with \"tahn-activation function\"\n",
    "    a_next = torch.tanh(torch.matmul(Waa,a_prev) + torch.matmul(Wax,xt) + ba)\n",
    "    \n",
    "    #2...prediction: y(t)\n",
    "    yt_pred = softmax(torch.matmul(Wya, a_next) + by) \n",
    "\n",
    "    #3....store tuples in accumulator             \n",
    "    accumulator = (a_next,a_prev,xt,parameters) \n",
    "\n",
    "    #4....return\n",
    "    return a_next,yt_pred,accumulator\n",
    "    \n",
    "    ### WRITE SOLUTION HERE ###"
   ]
  },
  {
   "cell_type": "code",
   "execution_count": 0,
   "metadata": {
    "colab": {},
    "colab_type": "code",
    "id": "r7qW4tye018I"
   },
   "outputs": [],
   "source": []
  },
  {
   "cell_type": "markdown",
   "metadata": {
    "colab_type": "text",
    "id": "-vXn-5juN7Lr"
   },
   "source": [
    "Let's put our implementation to test! For this, we will define a time series with seasonality using the functions below"
   ]
  },
  {
   "cell_type": "markdown",
   "metadata": {
    "colab_type": "text",
    "id": "KAluLVTlN7Lw"
   },
   "source": [
    "Let's also define some variables to control our series"
   ]
  },
  {
   "cell_type": "markdown",
   "metadata": {
    "colab_type": "text",
    "id": "d1CP8-0gN7L6"
   },
   "source": [
    "## The RNN Forward Pass\n",
    "In the previous task, we computed one iteration of a RNN cells. However, the RNN consists of a repetition of RNN cells. For each step in index $t$, we have to use the RNN cell again. \n",
    "\n",
    "Let's not forget that on each step, the RNN cell takes two inputs, the current input data $x^{\\langle t \\rangle}$ and the hidden state from the previous cell, $a^{\\langle t-1 \\rangle}$. The output, therefore, has to be two vectors, the prediction ($y^{\\langle t \\rangle}$) and the hidden state ($a^{\\langle t \\rangle}$). If you remember our previous task, we defined a set of weights and biases named $(W_{aa}, b_{a}, W_{ax}, b_{x})$. They will be used on each time step as well.\n",
    "\n",
    "Let's implement a forward pass for our RNN!\n",
    "\n",
    "## Task 2. Go Forward (1+1+1+1+1=5 points)\n",
    "This task will consist of 5 simple exercises. They are the following:\n",
    "* **(1 pt.)** First, initializing a 3D array $a$ with zeros. It must have the shape $(n_{a}, m, T_{x})$. This array must store all the hidden states computed by our RNN\n",
    "* **(1 pt.)** Second, similarly, we will need a 3D array to store the predictions. The array $\\hat{y}$ must have the same shape as the array $a$, this means a shape $(n_{y}, m, T_{x})$\n",
    "* **(1 pt.)** Third, please create the 2D hidden state `a_next`. For this, you must set it equal to $a_{0}$, the initial hidden state.\n",
    "* **(1 pt.)** Fourth, you must iterate through each step $t$. In each loop, the RNN must do the following:\n",
    "* - Retrieve $x^{\\langle t \\rangle}$ with shape $(n_{x}, m)$. This is the 2D slide of $x$ at a time step $t$\n",
    "* - Call the function `rnn_cell_forward` to update:\n",
    "* -- the hidden state `a_next` with shape $(n_{a}, m)$\n",
    "* -- the prediction $\\hat{y}^{\\langle t \\rangle}$\n",
    "* -- and the accumulator\n",
    "* - At the $t^{th}$ position:\n",
    "* -- Store the 2D hidden state in the 3D tensor $a$ with shape $(n_{a}, m, T_{x})$\n",
    "* -- Store the 2D prediction `yt_pred` with shape $(n_{y}, m)$ in the 3D tensor $\\hat{y}_{pred}$ with shape $(n_{y}, m, T_x)$\n",
    "* - Append the accumulator to a list of accumulators\n",
    "* - Store the input data `yt_pred` and the list of accumulator into a tuple `acc`\n",
    "* **(1 pt.)** Fifth, return three variables, the tuple `acc`, the 3D tensor $a$ and $\\hat{y}$\n",
    "\n",
    "Let's remember that to implement the function rnn_forward, we have access to the following variables and parameters:\n",
    "* `x` - This is the input data for all time steps, a pytorch tensor of shape $(n_x, m, T_x)$\n",
    "* `a0` - The initial hidden state at timestep \"0\", a pytorch tensor of shape $(n_a, m)$\n",
    "* `parameters` - This is a python dictionary. It consists of five keys:\n",
    "* - Wax - The weight matrix multiplying the input $x$ with shape $(n_a, n_x)$\n",
    "* - Waa - The meight matrix multiplying the hidden state $a$ with shape $(n_a, n_a)$\n",
    "* - Wya - The weight matrix for the hidden-state to the output with shape $(n_y, n_a)$\n",
    "* - ba -  Represents the bias with shape $(n_a, 1)$\n",
    "* - by -  Similarly, this is the bias for the hidden-state to the output. It has a shape $(n_y, 1)$\n",
    "    \n",
    "The function must return the following variables:\n",
    "* `a` - This is the next hidden state for all time steps with shape $(n_a, m,T_x)$\n",
    "* `y_pred` - It is the prediction for all time steps with shape $(n_y, m, T_x)$\n",
    "* `acc` - A tuple of values required for the backward pass. The tuple must contain (list of accumulators, x)"
   ]
  },
  {
   "cell_type": "code",
   "execution_count": 0,
   "metadata": {
    "colab": {},
    "colab_type": "code",
    "id": "wTaXGCUUN7L-"
   },
   "outputs": [],
   "source": []
  },
  {
   "cell_type": "code",
   "execution_count": 0,
   "metadata": {
    "colab": {},
    "colab_type": "code",
    "id": "2aHPjn8nfcEN"
   },
   "outputs": [],
   "source": [
    "# a = torch.zeros([3,10,4]) \n",
    "# a.shape"
   ]
  },
  {
   "cell_type": "code",
   "execution_count": 0,
   "metadata": {
    "colab": {},
    "colab_type": "code",
    "id": "aXOv79YlSKTA"
   },
   "outputs": [],
   "source": [
    "def rnn_forward(x, a0, parameters):\n",
    "    list_accumulators = []\n",
    "    n_x, m, T_x = x.shape\n",
    "    n_y, n_a = parameters[\"Wya\"].shape\n",
    "    \n",
    "    ### WRITE SOLUTION HERE ###\n",
    "    a = torch.zeros([n_a,m,T_x])       #1...Initiate 3D matrix-\"a\"\n",
    "    y_pred = torch.zeros([n_y,m,T_x])  #2...Initiate 3D for prediction-\"y\"\n",
    "    a_next = a0                        #3...create 2D hidden state \"a_next\"\n",
    "\n",
    "    for t in range(T_x):              #4...iterate through each step t \n",
    "                                      #.....Call the function \"rnn_cell_forward\"\n",
    "      a_next, yt_pred, accumulator = rnn_cell_forward(x[:,:,t],a_next,parameters) \n",
    "      a[:,:,t] = a_next                    #.....the hidden state \"a_next\"\n",
    "      y_pred[:,:,t] = yt_pred              #.....the prediction-𝑦̂⟨𝑡⟩\n",
    "      list_accumulators.append(accumulator)#.....and the accumulator\n",
    "\n",
    "    acc = (list_accumulators,x)    #Store  and the list of accumulator into a tuple acc\n",
    "    return a, y_pred,acc \n",
    "\n",
    " ### WRITE SOLUTION HERE ###"
   ]
  },
  {
   "cell_type": "markdown",
   "metadata": {
    "colab_type": "text",
    "id": "Prv38PPNN7MS"
   },
   "source": [
    "## Task 3. Random RNN (1 point)\n",
    "Now that you have defined `rnn_cell_forward` and `rnn_forward`, let's test it with our data and inspect the results. This task consists of three exercises:\n",
    "* **(1 pt.)** First, initialize the RNN cell with the `series` provided above with $x$ of shape $(3, 10, 4)$. Remember also to define random values for the hidden layer $a$ and the weights and biases in the dictionary of parameters. Verify the output by printing `y_pred[1]` and the shape of `y_pred`."
   ]
  },
  {
   "cell_type": "code",
   "execution_count": 0,
   "metadata": {
    "colab": {},
    "colab_type": "code",
    "id": "RjAqe_dIN7MX"
   },
   "outputs": [],
   "source": [
    "def trend(time, slope=0):\n",
    "    return slope * time\n",
    "\n",
    "\n",
    "def seasonal_pattern(season_time):\n",
    "    \n",
    "    return np.where(season_time < 0.4,\n",
    "                    np.cos(season_time * 2 * np.pi),\n",
    "                    1 / np.exp(3 * season_time))\n",
    "\n",
    "\n",
    "def seasonality(time, period, amplitude=1, phase=0):\n",
    "    season_time = ((time + phase) % period) / period\n",
    "    return amplitude * seasonal_pattern(season_time)\n",
    "\n",
    "\n",
    "def noise(time, noise_level=1, seed=None):\n",
    "    rnd = np.random.RandomState(seed)\n",
    "    return rnd.randn(len(time)) * noise_level\n",
    "\n",
    "def plot_series(time, series, format=\"-\", start=0, end=None):\n",
    "    plt.plot(time[start:end], series[start:end], format)\n",
    "    plt.xlabel(\"Time\")\n",
    "    plt.ylabel(\"Value\")\n",
    "    plt.grid(True)"
   ]
  },
  {
   "cell_type": "code",
   "execution_count": 0,
   "metadata": {
    "colab": {},
    "colab_type": "code",
    "id": "kEebbYdcN7Mp"
   },
   "outputs": [],
   "source": [
    "# Config of creating time series\n",
    "time = np.arange(120, dtype=\"float32\")\n",
    "baseline = 10\n",
    "series = trend(time, 0.1)\n",
    "baseline = 10\n",
    "amplitude = 40\n",
    "slope = 0.05\n",
    "noise_level = 5"
   ]
  },
  {
   "cell_type": "markdown",
   "metadata": {
    "colab_type": "text",
    "id": "0g5PJxwQN7M1"
   },
   "source": [
    "We initialize the time series"
   ]
  },
  {
   "cell_type": "code",
   "execution_count": 0,
   "metadata": {
    "colab": {},
    "colab_type": "code",
    "id": "j9a6aP3DN7M4"
   },
   "outputs": [],
   "source": [
    "# Create the time series\n",
    "series = baseline + trend(time, slope) + seasonality(time, period=365,amplitude=amplitude)\n",
    "# Update with noise\n",
    "series += noise(time, noise_level, seed=42)"
   ]
  },
  {
   "cell_type": "markdown",
   "metadata": {
    "colab_type": "text",
    "id": "wYDaFu0KN7NJ"
   },
   "source": [
    "and plot it"
   ]
  },
  {
   "cell_type": "code",
   "execution_count": 12,
   "metadata": {
    "colab": {
     "base_uri": "https://localhost:8080/",
     "height": 280
    },
    "colab_type": "code",
    "executionInfo": {
     "elapsed": 1050,
     "status": "ok",
     "timestamp": 1585192436912,
     "user": {
      "displayName": "Oluwafemi Olaleke",
      "photoUrl": "",
      "userId": "14193430993642365940"
     },
     "user_tz": -180
    },
    "id": "Af5vSFVkN7NP",
    "outputId": "43831e35-74f4-4bc0-f0d1-c224e77906d1"
   },
   "outputs": [
    {
     "data": {
      "image/png": "[encoded data removed]",
      "text/plain": [
       "<Figure size 432x288 with 1 Axes>"
      ]
     },
     "metadata": {
      "tags": []
     },
     "output_type": "display_data"
    }
   ],
   "source": [
    "plot_series(time,series)"
   ]
  },
  {
   "cell_type": "code",
   "execution_count": 0,
   "metadata": {
    "colab": {},
    "colab_type": "code",
    "id": "zg5cvMF-18KC"
   },
   "outputs": [],
   "source": []
  },
  {
   "cell_type": "code",
   "execution_count": 0,
   "metadata": {
    "colab": {},
    "colab_type": "code",
    "id": "bkbzlEEVRIEx"
   },
   "outputs": [],
   "source": []
  },
  {
   "cell_type": "code",
   "execution_count": 0,
   "metadata": {
    "colab": {},
    "colab_type": "code",
    "id": "prvxKiBeN7NZ"
   },
   "outputs": [],
   "source": [
    "### WRITE SOLUTION HERE ###\n",
    "                         #let na = 5, ny=2      \n",
    "\n",
    "x = torch.Tensor(series.reshape(3, 10, 4))  #with  𝑥  of shape (nx,m,Tx) ---> (3,10,4)\n",
    "a0 = torch.randn(5,10)   #random values for the hidden \"layer 𝑎\"\n",
    "\n",
    "                        #initialize weight \n",
    "Wax = torch.randn(5,3)  # Wax--->(na,nx)\n",
    "Waa = torch.randn(5,5)  # Waa--->(na,na)\n",
    "Wya = torch.randn(2,5)  # Wya--->(ny,na) \n",
    "\n",
    "                        #initialize biases\n",
    "ba = torch.randn(5,1)   #ba--->(na,1)\n",
    "by = torch.randn(2,1)   #by--->(ny,1)\n",
    "dict_parameters = {\n",
    "              \"Wax\": Wax,\n",
    "              \"Waa\": Waa,\n",
    "              \"Wya\": Wya,\n",
    "              \"ba\": ba, \n",
    "              \"by\": by}\n",
    "\n",
    "### WRITE SOLUTION HERE ###"
   ]
  },
  {
   "cell_type": "code",
   "execution_count": 0,
   "metadata": {
    "colab": {},
    "colab_type": "code",
    "id": "eoeX9JufN7Ns"
   },
   "outputs": [],
   "source": [
    "a,y_pred,accumulators  = rnn_forward(x, a0, dict_parameters)"
   ]
  },
  {
   "cell_type": "code",
   "execution_count": 17,
   "metadata": {
    "colab": {
     "base_uri": "https://localhost:8080/",
     "height": 194
    },
    "colab_type": "code",
    "executionInfo": {
     "elapsed": 1087,
     "status": "ok",
     "timestamp": 1585192546994,
     "user": {
      "displayName": "Oluwafemi Olaleke",
      "photoUrl": "",
      "userId": "14193430993642365940"
     },
     "user_tz": -180
    },
    "id": "sUqjyUCJoq0D",
    "outputId": "d7d708d9-8e87-43a4-c5a8-ed86834a036e"
   },
   "outputs": [
    {
     "data": {
      "text/plain": [
       "tensor([[0.9790, 0.9790, 0.9790, 0.7871],\n",
       "        [0.7364, 0.9749, 0.7891, 0.9790],\n",
       "        [0.9790, 0.4829, 0.9790, 0.9774],\n",
       "        [0.4821, 0.9790, 0.9790, 0.9420],\n",
       "        [0.5483, 0.4898, 0.9790, 0.9789],\n",
       "        [0.4802, 0.4820, 0.4802, 0.4802],\n",
       "        [0.9497, 0.9156, 0.8362, 0.4812],\n",
       "        [0.9198, 0.4802, 0.4802, 0.4802],\n",
       "        [0.4802, 0.9790, 0.4802, 0.5043],\n",
       "        [0.4802, 0.4802, 0.4805, 0.4802]])"
      ]
     },
     "execution_count": 17,
     "metadata": {
      "tags": []
     },
     "output_type": "execute_result"
    }
   ],
   "source": [
    "y_pred[1]    #print y_pred[1]"
   ]
  },
  {
   "cell_type": "code",
   "execution_count": 18,
   "metadata": {
    "colab": {
     "base_uri": "https://localhost:8080/",
     "height": 34
    },
    "colab_type": "code",
    "executionInfo": {
     "elapsed": 1061,
     "status": "ok",
     "timestamp": 1585192566896,
     "user": {
      "displayName": "Oluwafemi Olaleke",
      "photoUrl": "",
      "userId": "14193430993642365940"
     },
     "user_tz": -180
    },
    "id": "TF2s-wEeh-lI",
    "outputId": "ef7dac65-0cbe-4c71-bab5-93d6b5ce6443"
   },
   "outputs": [
    {
     "data": {
      "text/plain": [
       "torch.Size([2, 10, 4])"
      ]
     },
     "execution_count": 18,
     "metadata": {
      "tags": []
     },
     "output_type": "execute_result"
    }
   ],
   "source": [
    "y_pred.shape"
   ]
  },
  {
   "cell_type": "code",
   "execution_count": 0,
   "metadata": {
    "colab": {},
    "colab_type": "code",
    "id": "DGhbPDJK2ABW"
   },
   "outputs": [],
   "source": []
  },
  {
   "cell_type": "code",
   "execution_count": 0,
   "metadata": {
    "colab": {},
    "colab_type": "code",
    "id": "c-UCDcGo1_1Z"
   },
   "outputs": [],
   "source": []
  },
  {
   "cell_type": "markdown",
   "metadata": {
    "colab_type": "text",
    "id": "eXABFkr1N7OH"
   },
   "source": [
    "# Home Assignment No. 4: Part 2 (Theory)\n",
    "In this part of the homework you are to solve several simple theoretical problems related to time series forecasting algorithms.\n",
    "* For every separate problem you can get only 0 points or maximal points for this problem. There are **NO INTERMEDIATE scores**.\n",
    "* Your solution must me **COMPLETE**, i.e. contain all required formulas/proofs/detailed explanations.\n",
    "* You must write your solution for any problem right after the words **YOUR SOLUTION**. Attaching pictures of your handwriting is allowed, but **highly discouraged**.\n",
    "## $\\LaTeX$ in Jupyter\n",
    "Jupyter has constantly improving $\\LaTeX$ support. Below are the basic methods to\n",
    "write **neat, tidy, and well typeset** equations in your notebooks:\n",
    "* to write an **inline** equation use \n",
    "```markdown\n",
    "$ you latex equation here $\n",
    "```\n",
    "* to write an equation, that is **displayed on a separate line** use \n",
    "```markdown\n",
    "$$ you latex equation here $$\n",
    "```\n",
    "* to write a **block of equations** use \n",
    "```markdown\n",
    "\\begin{align}\n",
    "    left-hand-side\n",
    "        &= right-hand-side on line 1\n",
    "        \\\\\n",
    "        &= right-hand-side on line 2\n",
    "        \\\\\n",
    "        &= right-hand-side on the last line\n",
    "\\end{align}\n",
    "```\n",
    "The **ampersand** (`&`) aligns the equations horizontally and the **double backslash**\n",
    "(`\\\\`) creates a new line.\n",
    "\n",
    "## The ARMA Process\n",
    "The family of ARMA processses (such as ARIMA and SARIMA) plays a major role in times series forecasting. In the first half of the homework, we will look deeper into understanding important elements around ARMA.\n",
    "\n",
    "We start by remembering that for a time series $\\{X_t\\}$ with $E(X^2_t) < \\infty$, its mean function is defined by $\\mu_X(t) = E(X_t)$ and the sample mean, for the $x_1, \\ldots, x_n$ observations by $\\bar{x} = \\frac{1}{n} \\sum^n_{t=1} x_t$. \n",
    "\n",
    "Similarly, its covariance function is \n",
    "$$\n",
    "\\begin{aligned}\n",
    "\\gamma_X(r,s) = Cov(X_r, X_s) \\\\ \n",
    "= E[(X_r - \\mu_X(r))(X_s - \\mu_X(s))]\n",
    "\\end{aligned}\n",
    "$$ \n",
    "for all integers $r$ and $s$. \n",
    "\n",
    "We know that for $\\{X_t\\}$ to be (weakly) stationary, it must fulfill two conditions. First, $\\mu_X(t)$ must be independent of $t$, and $\\gamma_X(t+h, t)$ must be also independent of $t$ for each h.\n",
    "\n",
    "In the seminar, we applied the autocovariance and the autocorrelation functions to a dataset without deeper discussing their definition. Now, we look deeper into them.\n",
    "\n",
    "#### Autocovariance function\n",
    "The autocovariance function or ACVF of $\\{X_t\\}$ at lag $h$ is $\\gamma X(h) = Cov(X_{t+h}, X_t)$.\n",
    "\n",
    "For the observations $x_1, \\ldots, x_n$, the sample autocovariance function can be similarly defined by\n",
    "$$\n",
    "\\begin{aligned}\n",
    "\\hat{\\gamma} (h) := n^{-1} \\sum^{n - |h|}_{t=1} (x_{t+|h|} - \\bar{x})(x_t - \\bar{x})\n",
    "\\end{aligned}\n",
    "$$ \n",
    "for $-n < h < n$\n",
    "\n",
    "#### Autocorrelation function\n",
    "The autocorrelation function or ACF makes use of ACVF as following $\\rho_X(h) = \\frac{\\gamma X(h)}{\\gamma X(0)} = Cor(X_{t+h}, X_t)$.\n",
    "\n",
    "Similarly, we can write the sample autocorrelation function as \n",
    "$$\n",
    "\\begin{aligned}\n",
    "\\hat{\\rho} (h) = \\frac{\\hat{\\gamma}(h)}{\\hat{\\gamma}(0)}\n",
    "\\end{aligned}\n",
    "$$ \n",
    "for $-n < h < n$\n",
    "\n",
    "Let's also remember a useful property of covariances, the linear property. It means that if that if $EX^2 < \\infty ,EY^2 < \\infty,EZ^2 < \\infty$ and $a$,$b$,and $c$ are any real constants, then, we can do $Cov(aX + bY + c, Z) = a Cov(X, Z) + b Cov(Y, Z)$.\n",
    "\n",
    "One of the cornerstones of classic forecasting is the Moving Average Process $MA(q)$. It can be defined, if the time series $\\{X_t\\}$ is $Xt = Z_t + \\theta_{1}Z_{t−1} +\\ldots+ \\theta_{q}Z_{t−q}$, where $\\{Z_t\\} \\sim WN(0,\\sigma^2)$, and $\\theta_{1},\\ldots,\\theta_{q}$ are constants, and $WN$, White Noise, being a sequence of uncorrelated random variables, each with zero mean and variance $\\sigma^2$ defined by $\\sigma^2 = E(X − \\mu)^2$. \n",
    "\n",
    "Let's put this into practice!"
   ]
  },
  {
   "cell_type": "markdown",
   "metadata": {
    "colab_type": "text",
    "id": "sW4v3IxcN7OP"
   },
   "source": [
    "## Task 1. MA(2) (1+1+1=3 points)\n",
    "Let's define a MA(2) with a white noise function of mean 0 and variance 1. Please do the following (**explicitly** outline all your computations):\n",
    "* **(1 pt.)** For $\\theta = 0.9$, derive the formula for the autocovariance and autocorrelation functions for this process.\n",
    "* **(1 pt.)** For $\\theta = 0.9$, compute the variance of the sample mean $(X_1 + X_2 + X_3 + X_4)/4$.\n",
    "* **(1 pt.)** If now we change our $\\theta$ to $-0.9$, what happens? What is the effect of a negative covariance? Please compare the result with the previous computation and **provide an explanation**.\n",
    "### Your Solution:"
   ]
  },
  {
   "cell_type": "markdown",
   "metadata": {
    "colab_type": "text",
    "id": "36EGU4lwN7Rl"
   },
   "source": [
    "*** Please type here your solution ***"
   ]
  },
  {
   "cell_type": "code",
   "execution_count": 0,
   "metadata": {
    "colab": {},
    "colab_type": "code",
    "id": "UJQYic9KH6XD"
   },
   "outputs": [],
   "source": []
  },
  {
   "cell_type": "markdown",
   "metadata": {
    "colab_type": "text",
    "id": "XX5CpAqNye1g"
   },
   "source": [
    "1.1] For  𝜃=0.9 , derive the formula for the autocovariance and autocorrelation functions for this process. "
   ]
  },
  {
   "cell_type": "markdown",
   "metadata": {
    "colab_type": "text",
    "id": "2ka9MwS1H8Lz"
   },
   "source": [
    "    \n",
    "    \n",
    "    - The process can be expressed in the form shown below;\n",
    "\n",
    "$$\n",
    "X_t = Z_t + \\theta Z_{t-2}\n",
    "$$\n",
    "\n",
    "    - As stated in the problem statement; the autocovariance function can be expressed as;\n",
    "\n",
    "$$\n",
    "\\gamma_X(h) = Cov(X_{t+h}, X_t)\n",
    "$$\n",
    "\n",
    "    - And this expression is ;\n",
    "$$\n",
    "Cov(X_{t+h}, X_t) = E[X_{t+h} X_t] \n",
    "$$\n",
    "\n",
    "    - with appropriate substitution in the RHS of the eqn above;we get\n",
    "$$\n",
    "E[X_{t+h} X_t] = E[(Z_{t+h} + \\theta Z_{t+h-2})(Z_t + \\theta Z_{t-2})] \n",
    "$$\n",
    "    \n",
    "    - Further expansion gives; \n",
    "$$\n",
    "\\gamma_X(h) = E[Z_{t+h} Z_t] + \\theta E[Z_{t+h} Z_{t-2}] + \\theta E[Z_{t+h-2} Z_t] + \\theta^2 E[Z_{t+h-2} Z_{t-2}]\n",
    "$$\n",
    "\n",
    "    - Moving forward; some properties of Z_t worth noting;\n",
    "    \n",
    "    - Z_{t}'s variables(random) are uncorrelated, therefore;\n",
    "    \n",
    "$$Mean\\left(E[X_{t}]\\right) = 0$$  \n",
    "\n",
    "$$Cov(Z_{t_1}, Z_{t_2}) = 1\\;\\text{for}\\; t_1 = t_2 \\;\\text{and}\\;Cov(Z_{t_1}, Z_{t_2})= 0, \\;\\text{otherwise}$$ \n",
    " \n",
    "    - The AutoCovariance funtion; are dependent on h. \n",
    "    - The values of ACVF; for corresponding values of h is given as;\n",
    "\n",
    "$$\n",
    "\\gamma_X(h) =  1 + \\theta^2, \\; \\text{for}  h  = 0 \\\\\n",
    "\\gamma_X(h) =  0             \\; \\text{for} |h| = 1 \\\\\n",
    "\\gamma_X(h) =  \\theta        \\; \\text{for} |h| = 2 \\\\\n",
    "\\text{and}  \\; 0             \\;  \\text{otherwise} \n",
    "$$\n",
    "\n",
    "\n",
    "    - Dividing through by ACVF value at h=0,\n",
    "    - The autocorrelation function can be properly defined as:\n",
    "\n",
    "$$\n",
    "\\rho(h) = \\frac{\\gamma_X(h)}{\\gamma_X(0)} = \\left\\{\\begin{array}{ll} 1, \\text{for} h = 0 \\\\ 0, \\text{for} |h| = 1 \\\\ \\frac{\\theta}{1 + \\theta^2}, \\text{for} |h| = 2 \\\\ 0, \\text{otherwise} \\end{array}\\right.\n",
    "$$\n",
    "\n",
    "\n",
    "     - Now with theta = 0.9, we obtain the corresponding solutions;\n",
    "\n",
    "$$\n",
    "\\gamma_X(h)  =  1.81\\;\\text{for}\\;  h  = 0 \\\\\n",
    "\\gamma_X(h)  =  0   \\;\\;\\;\\text{for}\\; |h| = 1 \\\\\n",
    "\\gamma_X(h)  =  0.9 \\;\\text{for}\\; |h| = 2 \\\\\n",
    "\\text{and}   \\; 0   \\;\\text{otherwise} \n",
    "$$\n",
    "\n",
    "\n",
    "$$\n",
    "\\rho_X(h) = \\frac{\\gamma_X(h)}{\\gamma_X(0)} = \\left\\{\\begin{array}{ll} 1, \\text{if } h = 0 \\\\ 0, \\text{if } |h| = 1 \\\\ 0.487, \\text{if } |h| = 2 \\\\ 0, \\text{otherwise} \\end{array}\\right.\n",
    "$$"
   ]
  },
  {
   "cell_type": "code",
   "execution_count": 0,
   "metadata": {
    "colab": {},
    "colab_type": "code",
    "id": "DH1GrZaayrdJ"
   },
   "outputs": [],
   "source": []
  },
  {
   "cell_type": "code",
   "execution_count": 0,
   "metadata": {
    "colab": {},
    "colab_type": "code",
    "id": "ifiXev5RyrAa"
   },
   "outputs": [],
   "source": []
  },
  {
   "cell_type": "markdown",
   "metadata": {
    "colab_type": "text",
    "id": "wfn-QsOxysEL"
   },
   "source": [
    "1.2- For $\\theta = 0.9$, compute the variance of the sample mean $(X_1 + X_2 + X_3 + X_4)/4$."
   ]
  },
  {
   "cell_type": "code",
   "execution_count": 0,
   "metadata": {
    "colab": {},
    "colab_type": "code",
    "id": "ofFCy3spyvql"
   },
   "outputs": [],
   "source": []
  },
  {
   "cell_type": "markdown",
   "metadata": {
    "colab_type": "text",
    "id": "32S2ICjCywQ_"
   },
   "source": [
    "    \n",
    "    - As given in the task; \n",
    "    \n",
    "$$\n",
    "\\frac{(X_1 + X_2 + X_3 + X_4)}{4}\n",
    "$$\n",
    "\n",
    "    - The sample mean can be written as;\n",
    "\n",
    "$$\n",
    "\\frac{(X_1 + X_2 + X_3 + X_4)}{4} = \\frac{(Z_1 + \\theta Z_{-1} + Z_2 + \\theta Z_0 + Z_3 + \\theta Z_1 + Z_4 + \\theta Z_2)}{4} \n",
    "$$\n",
    "\n",
    "\n",
    "$$\n",
    "\\frac{(X_1 + X_2 + X_3 + X_4)}{4}\n",
    "=\\frac{(\\theta Z_{-1} + \\theta Z_0 + (1+\\theta) Z_1 + (1+\\theta) Z_2 + Z_3 + Z_4)}{4}\n",
    "$$\n",
    "\n",
    "    - The variance of the sample is expressed as;\n",
    "\n",
    "\n",
    "$$\n",
    "E\\left[ \\left(\\frac{X_1 + X_2 + X_3 + X_4}{4}\\right)^2 \\right] = \\frac{(\\theta Z_{-1} + \\theta Z_0 + (1+\\theta) Z_1 + (1+\\theta)Z_2 + Z_3 + Z_4)^2}{16} \n",
    "$$\n",
    "\n",
    "     - Further Expression \n",
    "\n",
    "$$\n",
    "E\\left[ \\left(\\frac{X_1 + X_2 + X_3 + X_4}{4}\\right)^2 \\right] = \\frac{(\\theta^2 + \\theta^2 + (1+\\theta)^2 + (1+\\theta)^2 + 1 + 1)}{16} = \\frac{(\\theta^2 + \\theta + 1)}{4}\n",
    "$$\n",
    "\n",
    "    - Knowing that theta= = 0.9\n",
    "\n",
    "$$\n",
    "E\\left[ \\left(\\frac{X_1 + X_2 + X_3 + X_4}{4}\\right)^2 \\right] = \\frac{(\\theta^2 + \\theta + 1)}{4} = 0.6775\n",
    "$$\n"
   ]
  },
  {
   "cell_type": "code",
   "execution_count": 0,
   "metadata": {
    "colab": {},
    "colab_type": "code",
    "id": "niE_7aZEy3hG"
   },
   "outputs": [],
   "source": []
  },
  {
   "cell_type": "code",
   "execution_count": 0,
   "metadata": {
    "colab": {},
    "colab_type": "code",
    "id": "XUmYRlfGy3cP"
   },
   "outputs": [],
   "source": []
  },
  {
   "cell_type": "markdown",
   "metadata": {
    "colab_type": "text",
    "id": "j9v8hiKgy4SA"
   },
   "source": [
    "- (3) If now we change our  𝜃  to  −0.9 , \n",
    "\n",
    "- what happens? What is the effect of a negative covariance? \n",
    "\n",
    "- Please compare the result with the previous computation and provide an explanation."
   ]
  },
  {
   "cell_type": "code",
   "execution_count": 0,
   "metadata": {
    "colab": {},
    "colab_type": "code",
    "id": "YFg604Eny6QO"
   },
   "outputs": [],
   "source": []
  },
  {
   "cell_type": "markdown",
   "metadata": {
    "colab_type": "text",
    "id": "xrkJvDfQy605"
   },
   "source": [
    "\n",
    "    - with theta=-0.9, following the same procedure as above; the ACVF is given as;\n",
    "    \n",
    "$$\n",
    "\\gamma_X(h)  =  1.81\\;\\;\\text{for}\\;  h  = 0 \\\\\n",
    "\\gamma_X(h)  =  0 \\;    \\text{for}\\; |h| = 1 \\\\\n",
    "\\gamma_X(h)  =  -0.9 \\;\\text{for}\\; |h| = 2 \\\\\n",
    "\\text{and}   \\; 0\\;\\;\\;\\text{otherwise} \n",
    "$$\n",
    "    \n",
    "    - The AutoCorrelation Function \n",
    "\n",
    "$$\n",
    "\\rho_X(h) = \\frac{\\gamma_X(h)}{\\gamma_X(0)} = \\left\\{\\begin{array}{ll} 1, \\text{for} h = 0 \\\\ 0, \\text{for} |h| = 1 \\\\ -0.497, \\text{for} |h| = 2 \\\\ 0, \\text{otherwise} \\end{array}\\right.\n",
    "$$\n",
    "\n",
    "    - The variance if therefore given as;\n",
    "$$\n",
    "E\\left[ \\left(\\frac{X_1 + X_2 + X_3 + X_4}{4}\\right)^2 \\right] = \\frac{(\\theta Z_{-1} + \\theta Z_0 + (1+\\theta) Z_1 + (1+\\theta) Z_2 + Z_3 + Z_4)^2 }{16} \n",
    "$$\n",
    "\n",
    "    - and this becomes;\n",
    "$$\n",
    "E\\left[ \\left(\\frac{X_1 + X_2 + X_3 + X_4}{4}\\right)^2 \\right] = \\frac{(\\theta^2 + \\theta + 1)}{4} = 0.2275\n",
    "$$\n"
   ]
  },
  {
   "cell_type": "code",
   "execution_count": 0,
   "metadata": {
    "colab": {},
    "colab_type": "code",
    "id": "9yjQnfBkzBF4"
   },
   "outputs": [],
   "source": []
  },
  {
   "cell_type": "markdown",
   "metadata": {
    "colab_type": "text",
    "id": "_bd8zqMTzCGF"
   },
   "source": [
    "    - what happens? What is the effect of a negative covariance?\n",
    "\n",
    "\n",
    "- ANSWER: The negative covariance has a decrease effect on the influence of $Z_1$ and $Z_2$.\n",
    "- Also, $Z_3$ and $Z_4$ become inversely propotional to $Z_1$ and $Z_2$ in some manners."
   ]
  },
  {
   "cell_type": "code",
   "execution_count": 0,
   "metadata": {
    "colab": {},
    "colab_type": "code",
    "id": "v4N6K_G0zFBN"
   },
   "outputs": [],
   "source": []
  },
  {
   "cell_type": "markdown",
   "metadata": {
    "colab_type": "text",
    "id": "oCES1Kl2zFnw"
   },
   "source": [
    "    - Please compare the result with the previous computation and provide an explanation."
   ]
  },
  {
   "cell_type": "markdown",
   "metadata": {
    "colab_type": "text",
    "id": "u5cnDCvIzLEC"
   },
   "source": [
    "- The Moving Average process can be imagined as stream of batches of size 3\n",
    "- It is also not out of place to imagine it as moving over the WN -process $Z$\n",
    "- the MA has coefficients $1$, $0$, and $\\theta$ \n",
    "\n",
    "- The $\\gamma_X(0)$  is always +ve (and it remains +ve even after change of sign),$\\gamma_X(0)$  is equivalent to the covariance of $X_t$.  \n",
    "\n",
    "- The $\\gamma_X(1)$  is $0$ in senerio (i.e independent of  $\\theta$).it cam interpreted as the\"COV\" of 2-overlapping batches.(with 1-batch ahead of the other by 1-positional value) \n",
    "\n",
    "- $\\gamma_X(2)$ has a similar interpretation to  $\\gamma_X(1)$. its considered a covariance between  2-overlapping batches, but now with a difference pf 2-positional values. "
   ]
  },
  {
   "cell_type": "code",
   "execution_count": 0,
   "metadata": {
    "colab": {},
    "colab_type": "code",
    "id": "7nfVWlHmzOAX"
   },
   "outputs": [],
   "source": []
  },
  {
   "cell_type": "code",
   "execution_count": 0,
   "metadata": {
    "colab": {},
    "colab_type": "code",
    "id": "tqQevY4KzN69"
   },
   "outputs": [],
   "source": []
  },
  {
   "cell_type": "markdown",
   "metadata": {
    "colab_type": "text",
    "id": "0WXz-R4TN7Rq"
   },
   "source": [
    "## Task 2. Stationary processes (1+1=2 points)\n",
    "Assume that $\\{Y_t\\}$ represents a sequence with zero mean and variance $\\sigma^2$, let $a$ and $b$ are two constants. Are the following processes stationary? If they are, what would be their respective autocovariance and mean? \n",
    "* **(1 pt.)** $b + aY_0$\n",
    "* **(1 pt.)** $Y_{t}Y_{t-1}$\n",
    "\n",
    "Explicitly clarify your answer and please provide all necessary steps behind your reasoning.\n",
    "### Your Solution:"
   ]
  },
  {
   "cell_type": "markdown",
   "metadata": {
    "colab_type": "text",
    "id": "IsqbNo9ON7R0"
   },
   "source": [
    "*** Please type here your solution ***"
   ]
  },
  {
   "cell_type": "code",
   "execution_count": 0,
   "metadata": {
    "colab": {},
    "colab_type": "code",
    "id": "yv5OAKrdzVC6"
   },
   "outputs": [],
   "source": []
  },
  {
   "cell_type": "code",
   "execution_count": 0,
   "metadata": {
    "colab": {},
    "colab_type": "code",
    "id": "rVsOWNf1zUeX"
   },
   "outputs": [],
   "source": []
  },
  {
   "cell_type": "markdown",
   "metadata": {
    "colab_type": "text",
    "id": "uQoTdjZKzWzl"
   },
   "source": [
    "- 2.1: For $b + a Y_0$."
   ]
  },
  {
   "cell_type": "markdown",
   "metadata": {
    "colab_type": "text",
    "id": "0wk8IWWtzbte"
   },
   "source": [
    "    -Two important conditions are to be verified before concluding if a process is weakly stationary or not;\n",
    " \n",
    "- $\\mu_X(t)$ is independent of $t$,$ \n",
    "\n",
    "- $\\gamma_X(t+h,t)$ must be independent of $t$ for every $h$ \n",
    "\n",
    " \n",
    "    - Checking the first condition;\n",
    "\n",
    "$$\n",
    "E\\left[X_t\\right] = E\\left[ b + a Y_0 \\right] = E\\left[ b\\right]  a E[Y_0]\n",
    "$$\n",
    "\n",
    "$$\n",
    "E\\left[X_t\\right] = b + a E[Y_0] =  b + a(0) = b\n",
    "$$\n",
    "\n",
    "    - Checking the second condition;\n",
    "\n",
    "$$\n",
    "\\gamma_X(r,s) = Cov\\left(X_{r}, X_{s}\\right) = Cov\\left((b+aY_{0}), (b+aY_{0})\\right)\n",
    "$$\n",
    "\n",
    "- with $r,s \\in Z_{+}$\n",
    "\n",
    "        - To compute the variance \n",
    "\n",
    "$$\n",
    "Var\\left(X\\right) = Cov\\left(X, X\\right)\n",
    "$$\n",
    "\n",
    "$$\n",
    "Var\\left(b + aY_{0}\\right) = a^{2} \\sigma^{2} \n",
    "$$\n",
    "\n",
    "- With both conditions satisfied, the process is stationary "
   ]
  },
  {
   "cell_type": "code",
   "execution_count": 0,
   "metadata": {
    "colab": {},
    "colab_type": "code",
    "id": "RfL0RnC2zezn"
   },
   "outputs": [],
   "source": []
  },
  {
   "cell_type": "code",
   "execution_count": 0,
   "metadata": {
    "colab": {},
    "colab_type": "code",
    "id": "dXOXevxmzeNB"
   },
   "outputs": [],
   "source": []
  },
  {
   "cell_type": "markdown",
   "metadata": {
    "colab_type": "text",
    "id": "vJs2hubYzfc6"
   },
   "source": [
    "-2.2] For  $Y_t Y_{t-1}$"
   ]
  },
  {
   "cell_type": "markdown",
   "metadata": {
    "colab_type": "text",
    "id": "HeziYmxmzkjw"
   },
   "source": [
    "\n",
    "    - in verifying the first condition;\n",
    "    \n",
    "    - keeping in mind that with {Y_t} == sequence with zero-mean,   \n",
    "    \n",
    "    - then {Y_t}, {Y_t} == zero- mean independent variables \n",
    "\n",
    "$$\n",
    "\\mu_X = E[X_t] = E[Y_t Y_{t-1}] =E[Y_t]\\times E[Y_{t-1}] = 0\n",
    "$$\n",
    "\n",
    "     - for the verification of the 2nd condition;\n",
    "\n",
    "$$\n",
    "\\gamma_X(r,s) = Cov\\left(X_{r}, X_{s}\\right)\n",
    "$$\n",
    "\n",
    "    - and this is equivalent to; \n",
    "\n",
    "$$\n",
    "\\gamma_X(r,s) = E\\left[ \\left( Y_{r}Y_{r-1} -E[Y_{r}Y_{r-1}] \\right) \\left( Y_{s}Y_{s-1} -E[Y_{s}Y_{s-1}] \\right)\\right]   \n",
    "$$\n",
    "\n",
    "    - and this gives us;\n",
    "    \n",
    "$$\n",
    "\\gamma_X(r,s) = E\\left[\\left( Y_{r}Y_{r-1}Y_{s}Y_{s-1}\\right)\\right]   \n",
    "$$\n",
    "\n",
    "    - when r = s, \n",
    "    \n",
    "$$\n",
    "\\gamma_X(r,s) = \\sigma^{4}\n",
    "$$\n",
    "    \n",
    "    - otherwise we will have Expectation = 0, because we will have independent random variables  \n",
    "    \n",
    "- Now with $\\gamma_X(t+h,t)$ which is independent of $t$,\n",
    "- the process is stationary"
   ]
  },
  {
   "cell_type": "code",
   "execution_count": 0,
   "metadata": {
    "colab": {},
    "colab_type": "code",
    "id": "mJ7GfaTO2RFG"
   },
   "outputs": [],
   "source": []
  },
  {
   "cell_type": "markdown",
   "metadata": {
    "colab_type": "text",
    "id": "So_d9lkEN7R6"
   },
   "source": [
    "## Task 3. Questionable processes (1 point)\n",
    "Assume that we have two moving average processes MA(1) and $0 < |\\theta| < 1$. The first process is defined by $Q_t + \\frac{1}{\\theta}Q_{t-1}$. It has a White Noise with variance $\\sigma^2\\theta^2$ and zero mean. The second one is $S_t + \\theta S_{t−1}$ with a White Noise with zero mean and variance $\\sigma^2$.\n",
    "\n",
    "Do they have the same autocovariance functions? Answer this question by deriving exact \n",
    "analytic formulas for autocovariation functions.\n",
    "### Your solution"
   ]
  },
  {
   "cell_type": "markdown",
   "metadata": {
    "colab_type": "text",
    "id": "3H3ix4DrN7SA"
   },
   "source": [
    "*** Please type here your solution ***"
   ]
  },
  {
   "cell_type": "code",
   "execution_count": 0,
   "metadata": {
    "colab": {},
    "colab_type": "code",
    "id": "kNpscmx7zrG8"
   },
   "outputs": [],
   "source": []
  },
  {
   "cell_type": "code",
   "execution_count": 0,
   "metadata": {
    "colab": {},
    "colab_type": "code",
    "id": "yZQ9cpHmzrB5"
   },
   "outputs": [],
   "source": []
  },
  {
   "cell_type": "markdown",
   "metadata": {
    "colab_type": "text",
    "id": "V420bw29zsQk"
   },
   "source": [
    "    - By analytically deriving the formulas for autovariation functions;\n",
    "    \n",
    "    \n",
    " - with $X_t = Q_t + \\frac{1}{\\theta} Q_{t-1}$ .\n",
    " \n",
    "        -The mean of X_t is given by:\n",
    "\n",
    "$$\n",
    "E[X_t] = E\\left[Q_t + \\frac{1}{\\theta} Q_{t-1}\\right] \n",
    "$$\n",
    "\n",
    "        - and this becomes...\n",
    "$$\n",
    "E[X_t] = E[Q_t] + \\frac{1}{\\theta}E[Q_{t-1}] = 0\n",
    "$$\n",
    "\n",
    "        - X_t AutoCovariance function is given as;\n",
    "\n",
    "\n",
    "$$\n",
    "\\gamma_X(t+h, t) = E\\left[ \\left( Q_{t+h} + \\frac{1}{\\theta} Q_{t+h-1} \\right) \\left( Q_{t} + \\frac{1}{\\theta} Q_{t-1} \\right) \\right] \n",
    "$$\n",
    "\n",
    "        - Expansion of the RHS of the equation gives...\n",
    "\n",
    "$$\n",
    "\\gamma_X(t+h, t) = \n",
    "E\\left[ Q_{t+h} Q_{t} + \\frac{1}{\\theta} Q_{t+h} Q_{t-1} + \\frac{1}{\\theta} Q_{t+h-1} Q_{t} + \\frac{1}{\\theta^2} Q_{t+h-1} Q_{t-1} \\right] \n",
    "$$\n",
    "\n",
    "        - AutoCovariance is given as; \n",
    "$$\n",
    "\\gamma_X(t+h, t)  = \\sigma^2 \\theta^2 + \\sigma^2  \\;\\;\\text{for}\\;h  = 0 \\\\\n",
    "\\gamma_X(t+h, t)) = \\sigma^2 \\theta, \\text{for} \\;\\; |h| = 1     \n",
    "$$\n",
    " \n",
    " \n",
    "         - with $Y_t = S_t + \\theta S_{t-1}$\n",
    "\n",
    "$$\n",
    "\\gamma_X(t+h, t) = = \\left\\{\\begin{array}{ll} \\sigma^2 \\theta^2 + \\sigma^2, \\text{if } h = 0 \\\\ \\sigma^2 \\theta, \\text{if } |h| = 1 \\end{array}\\right.\n",
    "$$\n",
    "\n",
    "         - The mean of Y_t is given by:\n",
    "\n",
    "$$\n",
    "E[Y_t] = E[S_t + \\theta S_{t-1}]\n",
    "$$\n",
    "\n",
    "        - and this becomes...\n",
    "$$\n",
    "E[Y_t] = E[S_t] + \\theta E[S_{t-1}]  = 0\n",
    "$$\n",
    "\n",
    "        - Y_t AutoCovariance function is given as;\n",
    "\n",
    "\n",
    "$$\n",
    "\\gamma_Y(t+h, t) = E\\left[ \\left( S_{t+h} + \\theta S_{t+h-1} \\right) \\left( S_{t} + \\theta S_{t-1} \\right) \\right]\n",
    "$$\n",
    "\n",
    "        - Expansion of the RHS of the equation gives...\n",
    "\n",
    "$$\n",
    "\\gamma_X(t+h, t) =  = E\\left[ S_{t+h} S_{t} + \\theta S_{t+h} S_{t-1} + \\theta S_{t+h-1} S_{t} + \\theta^2 S_{t+h-1} S_{t-1} \\right] \n",
    "$$\n",
    "\n",
    "        - AutoCovariance is given as; \n",
    "$$\n",
    "\\gamma_Y(t+h, t)  = \\sigma^2 \\theta^2 + \\sigma^2 \\;\\;\\text{for}\\;h  = 0 \\\\\n",
    "\\gamma_Y(t+h, t)) = \\sigma^2 \\theta, \\text{for}\\; \\;\\; |h| = 1     \n",
    "$$\n",
    " \n",
    " \n",
    "\n",
    "\n",
    "- It is seen from these derivations that the AutoCovariences are the same."
   ]
  },
  {
   "cell_type": "code",
   "execution_count": 0,
   "metadata": {
    "colab": {},
    "colab_type": "code",
    "id": "hYPlGZooz5Oq"
   },
   "outputs": [],
   "source": []
  },
  {
   "cell_type": "code",
   "execution_count": 0,
   "metadata": {
    "colab": {},
    "colab_type": "code",
    "id": "oi5bM6SJz5JE"
   },
   "outputs": [],
   "source": []
  },
  {
   "cell_type": "markdown",
   "metadata": {
    "colab_type": "text",
    "id": "Z9GeKCp3N7SG"
   },
   "source": [
    "## ARMA\n",
    "Let's start by defining the ARMA(p, q) process for a time series ${Xt}$. This is the case if the time series is stationary and for every $t$, it satisfies\n",
    "$$\n",
    "\\begin{aligned}\n",
    "X_t − \\phi X_{t−1} - \\ldots -  \\phi_p X_{t−p} = Z_{t} + \\theta Z_{t−1} + \\ldots + \\theta_q Z_{t-q},\n",
    "\\end{aligned}\n",
    "$$\n",
    "\n",
    "where ${Z_t} \\sim WN(0, \\sigma^2)$ In addition, the polynomials $1+ \\theta_{1}z + \\ldots + \\theta_{q}z^q$ and $1 − \\phi_{1}z − \\ldots − \\phi_{p}z^p$ have no common factors.\n",
    "\n",
    "\n",
    "\n",
    "If we define $B$ by the Backwards Shift Operator $BX_{t} = X_{t−1}$ or more generally $B^j X_t = X_{t−j}, B^j Z_t = Z_{t−j}, j = 0, \\pm 1, \\ldots$, we can write this more cleanly as \n",
    "$$\n",
    "\\begin{aligned}\n",
    "\\phi(B)X_t = \\theta(B)Z_t,\n",
    "\\end{aligned}\n",
    "$$\n",
    "\n",
    "where $\\phi()$ and $\\theta()$ are the p-th and q-th-degree polynomials: $\\phi(z) = 1 − \\phi_1 z − \\ldots − \\phi_{p} z^p$ and\n",
    "$\\theta(z) = 1 + \\theta_1 z + \\ldots + \\theta_{q}z^q$.\n",
    "### The Partial Autocorrelation Function\n",
    "The partial autocorrelation function (PACF) of an ARMA process $\\{X_t\\}$ is the function $\\alpha()$ defined by the equations\n",
    "\n",
    "$$\\alpha(0) = 1 \\qquad \\text{and}\\qquad \\alpha(h) = \\phi_{hh}\\text{, } h \\geq 1,$$\n",
    "\n",
    "where $\\phi_{hh}$ is the last component of $\\phi_{h} = \\Gamma^{-1}_h \\gamma_h$. Here, $\\Gamma_h = [\\gamma(i - j)]^h_{i,j = 1}$ and $\\gamma_h = [\\gamma(1), \\gamma(2), \\ldots, \\gamma(h)]$\n",
    "\n",
    "Similarly, the sample PACF is the funciton $\\hat{\\alpha}()$, where \n",
    "\n",
    "$$\\hat{\\alpha}(0) = 1\\qquad \\text{and} \\qquad \\hat{\\alpha}(h) = \\hat{\\phi}_{hh}\\text{, } h \\geq 1,$$\n",
    "where $\\hat{\\phi}_{hh}$ is the last component of $\\hat{\\phi}_{h} = \\Gamma^{-1}_h \\hat{\\gamma}_h$"
   ]
  },
  {
   "cell_type": "code",
   "execution_count": 0,
   "metadata": {
    "colab": {},
    "colab_type": "code",
    "id": "xmvnWpVszxai"
   },
   "outputs": [],
   "source": []
  },
  {
   "cell_type": "code",
   "execution_count": 0,
   "metadata": {
    "colab": {},
    "colab_type": "code",
    "id": "Lp59ozSxzwY3"
   },
   "outputs": [],
   "source": []
  },
  {
   "cell_type": "markdown",
   "metadata": {
    "colab_type": "text",
    "id": "MSBjLPiFN7SQ"
   },
   "source": [
    "## Task 4. ARMA (3 points)\n",
    "Assuming that the best linear predictor of $X_{h+1}$ can be estimated as $\\hat{X}_{h+1} = \\sum^h_{i=1} \\phi_{hi} X_{h+1-i}$, compute the PACF $\\alpha(2)$ of the moving average process MA(1) defined by $X_t = Q_t + \\theta Q_{t-1}$, where $\\{Q_t\\}$ is a White Noise with zero mean and variance $\\sigma^2$.\n",
    "### Your solution"
   ]
  },
  {
   "cell_type": "markdown",
   "metadata": {
    "colab_type": "text",
    "id": "FIrz2NKvN7SV"
   },
   "source": [
    "*** Please type here your solution ***"
   ]
  },
  {
   "cell_type": "code",
   "execution_count": 0,
   "metadata": {
    "colab": {},
    "colab_type": "code",
    "id": "DgjAq1vgN7Sc"
   },
   "outputs": [],
   "source": []
  },
  {
   "cell_type": "code",
   "execution_count": 0,
   "metadata": {
    "colab": {},
    "colab_type": "code",
    "id": "tBoLbeoC0BnR"
   },
   "outputs": [],
   "source": []
  },
  {
   "cell_type": "markdown",
   "metadata": {
    "colab_type": "text",
    "id": "Dq62vTl00GI5"
   },
   "source": [
    "- Fist step:  evaluating $\\Gamma_2^{-1}$ \n",
    "   \n",
    "\n",
    "\n",
    "$$\\Gamma_2 = \\begin{bmatrix} \\gamma(0) & \\gamma(-1) \\\\ \\gamma(1) & \\gamma(0) \\end{bmatrix}$$\n",
    "\n",
    "- we then evaluate $\\Gamma_2^{-1} \\gamma_2$; \n",
    "\n",
    "$$\n",
    "\\Gamma_2^{-1} \\gamma_2 = \\begin{bmatrix} \\gamma(0) & \\gamma(-1) \\\\ \\gamma(1) & \\gamma(0) \\end{bmatrix}^{-1} \\begin{bmatrix} \\gamma(1) \\\\ \\gamma(2) \\end{bmatrix}\n",
    "$$\n",
    "\n",
    "\n",
    "- given that $\\Gamma_2^{-1} \\gamma_2$ = $\\alpha(2)$; \n",
    "\n",
    "\n",
    "$$\n",
    "\\alpha(2) = \\begin{bmatrix} \\gamma(0) & \\gamma(1) \\\\ \\gamma(1) & \\gamma(0) \\end{bmatrix}^{-1} \\begin{bmatrix} \\gamma(1) \\\\ \\gamma(2) \\end{bmatrix}\n",
    "$$\n",
    "\n",
    "- Gettin the expression for $\\gamma(0)$;\n",
    "\n",
    "$$\n",
    "\\gamma(0) = Cov(X_t, X_t) = E[(Q_t + \\theta Q_{t-1})^2] \n",
    "$$\n",
    "\n",
    "- Further expression gives... \n",
    "$$\n",
    "\\gamma(0) = E[Q_t^2 + 2 \\theta Q_t Q_{t-1} + \\theta^2 Q_{t-1}^2] \n",
    "$$\n",
    "\n",
    "$$\n",
    "\\gamma(0) = \\sigma^2 + \\theta^2 \\sigma^2\n",
    "$$\n",
    "\n",
    "\n",
    "- Gettin the expression for $\\gamma(1)$;\n",
    "\n",
    "$$\n",
    "\\gamma(1) = Cov(X_{t+1}, X_t) = E[(Q_{t+1} + \\theta Q_t)(Q_t + \\theta Q_{t-1})]$$\n",
    "\n",
    "$$\n",
    "\\gamma(1) = E[Q_{t+1} Q_t + \\theta Q_t^2 + \\theta Q_{t+1} Q_{t-1} + \\theta^2 Q_t Q_{t-1}] \n",
    "$$\n",
    "\n",
    "$$\n",
    "\\gamma(1) \\theta \\sigma^2\n",
    "$$ \n",
    "\n",
    "\n",
    "- Gettin the expression for $\\gamma(2)$;\n",
    "\n",
    "$$\n",
    "\\gamma(2) = Cov(X_{t+2}, X_t) = E[(Q_{t+2} + \\theta Q_{t+1})(Q_t + \\theta Q_{t-1})] \n",
    "$$\n",
    "\n",
    "$$\n",
    "\\gamma(2)= 0\n",
    "$$\n",
    "\n",
    "- Funding expresion for $\\Gamma_h^{-1}$:, recall that;\n",
    "\n",
    "\n",
    "$$\n",
    "\\Gamma_h^{-1} = \\begin{bmatrix} \\gamma(0) & \\gamma(1) \\\\ \\gamma(1) & \\gamma(0) \\end{bmatrix}^{-1}\n",
    "$$\n",
    "\n",
    "- Utilizing the schur properties obtain; \n",
    "$$\n",
    "\\Gamma_h^{-1} = \\left(\\gamma(0)^2 - \\gamma(1)^2  \\right)^{-1}\\begin{bmatrix} \\gamma(0) & -\\gamma(1) \\\\ -\\gamma(1) & \\gamma(0) \\end{bmatrix}\n",
    "$$\n",
    "\n",
    "- Now by substituting the appropriate values of  $\\gamma(0)$; $\\gamma(1)$; $\\gamma(2)$; derived above,\n",
    "\n",
    "$$\n",
    "\\Gamma_h^{-1}= \\left(   (\\sigma^2 + \\theta^2 \\sigma^2)^2 - (\\theta \\sigma^2)^2\\right)^{-1} \\begin{bmatrix} \\sigma^2 + \\theta^2 \\sigma^2 & -\\theta \\sigma^2 \\\\ -\\theta \\sigma^2 & \\sigma^2 + \\theta^2 \\sigma^2 \\end{bmatrix}\n",
    "$$\n",
    "\n",
    "- and now  the experession for $\\Gamma_2^{-1}\\gamma_2$ is gotten as;\n",
    "\n",
    "$$\n",
    "\\Gamma_2^{-1} \\gamma_2 = \\left( (\\sigma^2 + \\theta^2 \\sigma^2)^2 - (\\theta \\sigma^2)^2)\\right)^{-1} \\begin{bmatrix} \\sigma^2 + \\theta^2 \\sigma^2 & -\\theta \\sigma^2 \\\\ -\\theta \\sigma^2 & \\sigma^2 + \\theta^2 \\sigma^2 \\end{bmatrix} \\begin{bmatrix} \\theta \\sigma^2 \\\\ 0 \\end{bmatrix} \n",
    "$$\n",
    "\n",
    "- simplification by Matrix multiplication gives;\n",
    "\n",
    "$$\n",
    "\\Gamma_2^{-1} \\gamma_2 = \\left((\\sigma^2 + \\theta^2 \\sigma^2)^2 - (\\theta \\sigma^2)^2) \\right)^{-1}\\begin{bmatrix} (\\sigma^2 + \\theta^2 \\sigma^2) \\theta \\sigma^2 \\\\ -\\theta^2 \\sigma^4 \\end{bmatrix}\n",
    "$$\n",
    "\n",
    "- the PACF $\\alpha(2)$ is computed as; \n",
    "$$\n",
    "\\alpha(2) = \\frac{-\\theta^2 \\sigma^4}{(\\sigma^2 + \\theta^2 \\sigma^2)^2 - (\\theta \\sigma^2)^2} \n",
    "$$\n",
    "\n",
    "$$\n",
    "\\alpha(2) = \\frac{-\\theta^2}{(1+ \\theta^2)^2 - (\\theta)^2} \n",
    "$$\n",
    "\n",
    "- Final expression is given as;\n",
    "\n",
    "$$\n",
    "\\alpha(2) = - \\left[ \\frac{\\theta^2}{1 + \\theta^2 + \\theta^4} \\right]\n",
    "$$"
   ]
  },
  {
   "cell_type": "code",
   "execution_count": 0,
   "metadata": {
    "colab": {},
    "colab_type": "code",
    "id": "JceRzoX_0JAN"
   },
   "outputs": [],
   "source": []
  }
 ],
 "metadata": {
  "accelerator": "GPU",
  "colab": {
   "collapsed_sections": [],
   "name": "hw4_Oluwafemi.ipynb",
   "provenance": []
  },
  "kernelspec": {
   "display_name": "Python 3",
   "language": "python",
   "name": "python3"
  },
  "language_info": {
   "codemirror_mode": {
    "name": "ipython",
    "version": 3
   },
   "file_extension": ".py",
   "mimetype": "text/x-python",
   "name": "python",
   "nbconvert_exporter": "python",
   "pygments_lexer": "ipython3",
   "version": "3.7.4"
  }
 },
 "nbformat": 4,
 "nbformat_minor": 1
}
